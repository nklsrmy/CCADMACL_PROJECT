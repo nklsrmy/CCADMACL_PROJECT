{
  "cells": [
    {
      "cell_type": "markdown",
      "metadata": {
        "id": "view-in-github",
        "colab_type": "text"
      },
      "source": [
        "<a href=\"https://colab.research.google.com/github/nklsrmy/CCADMACL_PROJECT/blob/main/Final_Project_ADVML.ipynb\" target=\"_parent\"><img src=\"https://colab.research.google.com/assets/colab-badge.svg\" alt=\"Open In Colab\"/></a>"
      ]
    },
    {
      "cell_type": "code",
      "execution_count": 3,
      "metadata": {
        "id": "jZSUgb8vUb7-"
      },
      "outputs": [],
      "source": [
        "import numpy as np\n",
        "import pandas as pd\n",
        "import matplotlib.pyplot as plt\n",
        "import seaborn as sns\n",
        "%matplotlib inline\n",
        "from sklearn.cluster import KMeans\n",
        "from sklearn.preprocessing import StandardScaler\n",
        "from sklearn.decomposition import PCA"
      ]
    },
    {
      "cell_type": "code",
      "execution_count": 4,
      "metadata": {
        "id": "ZDed9sv3bL5q"
      },
      "outputs": [],
      "source": [
        "df = pd.read_csv(\"coffee_house.csv\")"
      ]
    },
    {
      "cell_type": "code",
      "execution_count": 5,
      "metadata": {
        "colab": {
          "base_uri": "https://localhost:8080/",
          "height": 1000
        },
        "id": "0iRfJ2BSd_fY",
        "outputId": "56043b15-1926-41fb-c798-502d838cbd33"
      },
      "outputs": [
        {
          "output_type": "execute_result",
          "data": {
            "text/plain": [
              "                      Timestamp 1. Your Gender    2. Your Age  \\\n",
              "0  2019/10/01 12:38:43 PM GMT+8         Female  From 20 to 29   \n",
              "1  2019/10/01 12:38:54 PM GMT+8         Female  From 20 to 29   \n",
              "2  2019/10/01 12:38:56 PM GMT+8           Male  From 20 to 29   \n",
              "3  2019/10/01 12:39:08 PM GMT+8         Female  From 20 to 29   \n",
              "4  2019/10/01 12:39:20 PM GMT+8           Male  From 20 to 29   \n",
              "5  2019/10/01 12:39:39 PM GMT+8         Female  From 20 to 29   \n",
              "6  2019/10/01 12:39:42 PM GMT+8         Female  From 20 to 29   \n",
              "7  2019/10/01 12:40:58 PM GMT+8           Male  From 20 to 29   \n",
              "8  2019/10/01 12:42:27 PM GMT+8         Female  From 20 to 29   \n",
              "9  2019/10/01 12:43:36 PM GMT+8           Male  From 20 to 29   \n",
              "\n",
              "  3. Are you currently....? 4. What is your annual income?  \\\n",
              "0                   Student             Less than RM25,000   \n",
              "1                   Student             Less than RM25,000   \n",
              "2                  Employed             Less than RM25,000   \n",
              "3                   Student             Less than RM25,000   \n",
              "4                   Student             Less than RM25,000   \n",
              "5                   Student             Less than RM25,000   \n",
              "6                   Student             Less than RM25,000   \n",
              "7                  Employed           RM50,000 - RM100,000   \n",
              "8                   Student             Less than RM25,000   \n",
              "9                  Employed             Less than RM25,000   \n",
              "\n",
              "  5. How often do you visit Coffee House?  \\\n",
              "0                                  Rarely   \n",
              "1                                  Rarely   \n",
              "2                                 Monthly   \n",
              "3                                  Rarely   \n",
              "4                                 Monthly   \n",
              "5                                  Rarely   \n",
              "6                                  Rarely   \n",
              "7                                  Rarely   \n",
              "8                                  Rarely   \n",
              "9                                 Monthly   \n",
              "\n",
              "  6. How do you usually enjoy Coffee House?  \\\n",
              "0                                   Dine in   \n",
              "1                                 Take away   \n",
              "2                                   Dine in   \n",
              "3                                 Take away   \n",
              "4                                 Take away   \n",
              "5                                   Dine in   \n",
              "6                                   Dine in   \n",
              "7                                   Dine in   \n",
              "8                                Drive-thru   \n",
              "9                                 Take away   \n",
              "\n",
              "  7. How much time do you normally  spend during your visit?  \\\n",
              "0                       Between 30 minutes to 1 hour           \n",
              "1                                   Below 30 minutes           \n",
              "2                       Between 30 minutes to 1 hour           \n",
              "3                                   Below 30 minutes           \n",
              "4                       Between 30 minutes to 1 hour           \n",
              "5                       Between 30 minutes to 1 hour           \n",
              "6                                   Below 30 minutes           \n",
              "7                       Between 30 minutes to 1 hour           \n",
              "8                                   Below 30 minutes           \n",
              "9                                   Below 30 minutes           \n",
              "\n",
              "  8. The nearest Coffee House's outlet to you is...?  \\\n",
              "0                                         within 1km   \n",
              "1                                          1km - 3km   \n",
              "2                                      more than 3km   \n",
              "3                                      more than 3km   \n",
              "4                                          1km - 3km   \n",
              "5                                      more than 3km   \n",
              "6                                         within 1km   \n",
              "7                                      more than 3km   \n",
              "8                                      more than 3km   \n",
              "9                                      more than 3km   \n",
              "\n",
              "  9. Do you have Coffee House membership card?  ...  \\\n",
              "0                                          Yes  ...   \n",
              "1                                          Yes  ...   \n",
              "2                                          Yes  ...   \n",
              "3                                           No  ...   \n",
              "4                                           No  ...   \n",
              "5                                           No  ...   \n",
              "6                                          Yes  ...   \n",
              "7                                          Yes  ...   \n",
              "8                                          Yes  ...   \n",
              "9                                           No  ...   \n",
              "\n",
              "  11. On average, how much would you spend at Coffee House per visit?  \\\n",
              "0                                     Less than RM20                    \n",
              "1                                     Less than RM20                    \n",
              "2                                     Less than RM20                    \n",
              "3                                     Less than RM20                    \n",
              "4                                 Around RM20 - RM40                    \n",
              "5                                     Less than RM20                    \n",
              "6                                 Around RM20 - RM40                    \n",
              "7                                     Less than RM20                    \n",
              "8                                     More than RM40                    \n",
              "9                                 Around RM20 - RM40                    \n",
              "\n",
              "  12. How would you rate the quality of Coffee House compared to other brands (Coffee Bean, Old Town White Coffee..) to be:  \\\n",
              "0                                                  4                                                                          \n",
              "1                                                  4                                                                          \n",
              "2                                                  4                                                                          \n",
              "3                                                  2                                                                          \n",
              "4                                                  3                                                                          \n",
              "5                                                  4                                                                          \n",
              "6                                                  5                                                                          \n",
              "7                                                  4                                                                          \n",
              "8                                                  5                                                                          \n",
              "9                                                  4                                                                          \n",
              "\n",
              "   13. How would you rate the price range at Coffee House?  \\\n",
              "0                                                  3         \n",
              "1                                                  3         \n",
              "2                                                  3         \n",
              "3                                                  1         \n",
              "4                                                  3         \n",
              "5                                                  3         \n",
              "6                                                  5         \n",
              "7                                                  2         \n",
              "8                                                  4         \n",
              "9                                                  3         \n",
              "\n",
              "   14. How important are sales and promotions in your purchase decision?  \\\n",
              "0                                                  5                       \n",
              "1                                                  4                       \n",
              "2                                                  4                       \n",
              "3                                                  4                       \n",
              "4                                                  4                       \n",
              "5                                                  5                       \n",
              "6                                                  5                       \n",
              "7                                                  3                       \n",
              "8                                                  4                       \n",
              "9                                                  3                       \n",
              "\n",
              "   15. How would you rate the ambiance at Coffee House? (lighting, music, etc...)  \\\n",
              "0                                                  5                                \n",
              "1                                                  4                                \n",
              "2                                                  4                                \n",
              "3                                                  3                                \n",
              "4                                                  2                                \n",
              "5                                                  5                                \n",
              "6                                                  5                                \n",
              "7                                                  3                                \n",
              "8                                                  4                                \n",
              "9                                                  4                                \n",
              "\n",
              "   16. You rate the WiFi quality at Coffee House as..  \\\n",
              "0                                                  4    \n",
              "1                                                  4    \n",
              "2                                                  4    \n",
              "3                                                  3    \n",
              "4                                                  2    \n",
              "5                                                  4    \n",
              "6                                                  3    \n",
              "7                                                  3    \n",
              "8                                                  4    \n",
              "9                                                  3    \n",
              "\n",
              "   17. How would you rate the service at Coffee House? (Promptness, friendliness, etc..)  \\\n",
              "0                                                  4                                       \n",
              "1                                                  5                                       \n",
              "2                                                  4                                       \n",
              "3                                                  3                                       \n",
              "4                                                  3                                       \n",
              "5                                                  5                                       \n",
              "6                                                  5                                       \n",
              "7                                                  3                                       \n",
              "8                                                  4                                       \n",
              "9                                                  3                                       \n",
              "\n",
              "   18. How likely you will choose Coffee House for doing business meetings or hangout with friends?  \\\n",
              "0                                                  3                                                  \n",
              "1                                                  2                                                  \n",
              "2                                                  3                                                  \n",
              "3                                                  3                                                  \n",
              "4                                                  3                                                  \n",
              "5                                                  4                                                  \n",
              "6                                                  5                                                  \n",
              "7                                                  3                                                  \n",
              "8                                                  4                                                  \n",
              "9                                                  4                                                  \n",
              "\n",
              "   19. How do you come to hear of promotions at Coffee House? Check all that apply.  \\\n",
              "0  Starbucks Website/Apps;Social Media;Emails;Dea...                                  \n",
              "1                     Social Media;In Store displays                                  \n",
              "2                       In Store displays;Billboards                                  \n",
              "3                  Through friends and word of mouth                                  \n",
              "4                Starbucks Website/Apps;Social Media                                  \n",
              "5                                       Social Media                                  \n",
              "6                Starbucks Website/Apps;Social Media                                  \n",
              "7  Starbucks Website/Apps;Social Media;Emails;Thr...                                  \n",
              "8  Starbucks Website/Apps;Social Media;Through fr...                                  \n",
              "9     Social Media;Through friends and word of mouth                                  \n",
              "\n",
              "  20. Will you continue buying Coffee House?  \n",
              "0                                        Yes  \n",
              "1                                        Yes  \n",
              "2                                        Yes  \n",
              "3                                         No  \n",
              "4                                        Yes  \n",
              "5                                        Yes  \n",
              "6                                        Yes  \n",
              "7                                        Yes  \n",
              "8                                        Yes  \n",
              "9                                        Yes  \n",
              "\n",
              "[10 rows x 21 columns]"
            ],
            "text/html": [
              "\n",
              "  <div id=\"df-0225be04-3747-46eb-a8fd-50d87df696ca\" class=\"colab-df-container\">\n",
              "    <div>\n",
              "<style scoped>\n",
              "    .dataframe tbody tr th:only-of-type {\n",
              "        vertical-align: middle;\n",
              "    }\n",
              "\n",
              "    .dataframe tbody tr th {\n",
              "        vertical-align: top;\n",
              "    }\n",
              "\n",
              "    .dataframe thead th {\n",
              "        text-align: right;\n",
              "    }\n",
              "</style>\n",
              "<table border=\"1\" class=\"dataframe\">\n",
              "  <thead>\n",
              "    <tr style=\"text-align: right;\">\n",
              "      <th></th>\n",
              "      <th>Timestamp</th>\n",
              "      <th>1. Your Gender</th>\n",
              "      <th>2. Your Age</th>\n",
              "      <th>3. Are you currently....?</th>\n",
              "      <th>4. What is your annual income?</th>\n",
              "      <th>5. How often do you visit Coffee House?</th>\n",
              "      <th>6. How do you usually enjoy Coffee House?</th>\n",
              "      <th>7. How much time do you normally  spend during your visit?</th>\n",
              "      <th>8. The nearest Coffee House's outlet to you is...?</th>\n",
              "      <th>9. Do you have Coffee House membership card?</th>\n",
              "      <th>...</th>\n",
              "      <th>11. On average, how much would you spend at Coffee House per visit?</th>\n",
              "      <th>12. How would you rate the quality of Coffee House compared to other brands (Coffee Bean, Old Town White Coffee..) to be:</th>\n",
              "      <th>13. How would you rate the price range at Coffee House?</th>\n",
              "      <th>14. How important are sales and promotions in your purchase decision?</th>\n",
              "      <th>15. How would you rate the ambiance at Coffee House? (lighting, music, etc...)</th>\n",
              "      <th>16. You rate the WiFi quality at Coffee House as..</th>\n",
              "      <th>17. How would you rate the service at Coffee House? (Promptness, friendliness, etc..)</th>\n",
              "      <th>18. How likely you will choose Coffee House for doing business meetings or hangout with friends?</th>\n",
              "      <th>19. How do you come to hear of promotions at Coffee House? Check all that apply.</th>\n",
              "      <th>20. Will you continue buying Coffee House?</th>\n",
              "    </tr>\n",
              "  </thead>\n",
              "  <tbody>\n",
              "    <tr>\n",
              "      <th>0</th>\n",
              "      <td>2019/10/01 12:38:43 PM GMT+8</td>\n",
              "      <td>Female</td>\n",
              "      <td>From 20 to 29</td>\n",
              "      <td>Student</td>\n",
              "      <td>Less than RM25,000</td>\n",
              "      <td>Rarely</td>\n",
              "      <td>Dine in</td>\n",
              "      <td>Between 30 minutes to 1 hour</td>\n",
              "      <td>within 1km</td>\n",
              "      <td>Yes</td>\n",
              "      <td>...</td>\n",
              "      <td>Less than RM20</td>\n",
              "      <td>4</td>\n",
              "      <td>3</td>\n",
              "      <td>5</td>\n",
              "      <td>5</td>\n",
              "      <td>4</td>\n",
              "      <td>4</td>\n",
              "      <td>3</td>\n",
              "      <td>Starbucks Website/Apps;Social Media;Emails;Dea...</td>\n",
              "      <td>Yes</td>\n",
              "    </tr>\n",
              "    <tr>\n",
              "      <th>1</th>\n",
              "      <td>2019/10/01 12:38:54 PM GMT+8</td>\n",
              "      <td>Female</td>\n",
              "      <td>From 20 to 29</td>\n",
              "      <td>Student</td>\n",
              "      <td>Less than RM25,000</td>\n",
              "      <td>Rarely</td>\n",
              "      <td>Take away</td>\n",
              "      <td>Below 30 minutes</td>\n",
              "      <td>1km - 3km</td>\n",
              "      <td>Yes</td>\n",
              "      <td>...</td>\n",
              "      <td>Less than RM20</td>\n",
              "      <td>4</td>\n",
              "      <td>3</td>\n",
              "      <td>4</td>\n",
              "      <td>4</td>\n",
              "      <td>4</td>\n",
              "      <td>5</td>\n",
              "      <td>2</td>\n",
              "      <td>Social Media;In Store displays</td>\n",
              "      <td>Yes</td>\n",
              "    </tr>\n",
              "    <tr>\n",
              "      <th>2</th>\n",
              "      <td>2019/10/01 12:38:56 PM GMT+8</td>\n",
              "      <td>Male</td>\n",
              "      <td>From 20 to 29</td>\n",
              "      <td>Employed</td>\n",
              "      <td>Less than RM25,000</td>\n",
              "      <td>Monthly</td>\n",
              "      <td>Dine in</td>\n",
              "      <td>Between 30 minutes to 1 hour</td>\n",
              "      <td>more than 3km</td>\n",
              "      <td>Yes</td>\n",
              "      <td>...</td>\n",
              "      <td>Less than RM20</td>\n",
              "      <td>4</td>\n",
              "      <td>3</td>\n",
              "      <td>4</td>\n",
              "      <td>4</td>\n",
              "      <td>4</td>\n",
              "      <td>4</td>\n",
              "      <td>3</td>\n",
              "      <td>In Store displays;Billboards</td>\n",
              "      <td>Yes</td>\n",
              "    </tr>\n",
              "    <tr>\n",
              "      <th>3</th>\n",
              "      <td>2019/10/01 12:39:08 PM GMT+8</td>\n",
              "      <td>Female</td>\n",
              "      <td>From 20 to 29</td>\n",
              "      <td>Student</td>\n",
              "      <td>Less than RM25,000</td>\n",
              "      <td>Rarely</td>\n",
              "      <td>Take away</td>\n",
              "      <td>Below 30 minutes</td>\n",
              "      <td>more than 3km</td>\n",
              "      <td>No</td>\n",
              "      <td>...</td>\n",
              "      <td>Less than RM20</td>\n",
              "      <td>2</td>\n",
              "      <td>1</td>\n",
              "      <td>4</td>\n",
              "      <td>3</td>\n",
              "      <td>3</td>\n",
              "      <td>3</td>\n",
              "      <td>3</td>\n",
              "      <td>Through friends and word of mouth</td>\n",
              "      <td>No</td>\n",
              "    </tr>\n",
              "    <tr>\n",
              "      <th>4</th>\n",
              "      <td>2019/10/01 12:39:20 PM GMT+8</td>\n",
              "      <td>Male</td>\n",
              "      <td>From 20 to 29</td>\n",
              "      <td>Student</td>\n",
              "      <td>Less than RM25,000</td>\n",
              "      <td>Monthly</td>\n",
              "      <td>Take away</td>\n",
              "      <td>Between 30 minutes to 1 hour</td>\n",
              "      <td>1km - 3km</td>\n",
              "      <td>No</td>\n",
              "      <td>...</td>\n",
              "      <td>Around RM20 - RM40</td>\n",
              "      <td>3</td>\n",
              "      <td>3</td>\n",
              "      <td>4</td>\n",
              "      <td>2</td>\n",
              "      <td>2</td>\n",
              "      <td>3</td>\n",
              "      <td>3</td>\n",
              "      <td>Starbucks Website/Apps;Social Media</td>\n",
              "      <td>Yes</td>\n",
              "    </tr>\n",
              "    <tr>\n",
              "      <th>5</th>\n",
              "      <td>2019/10/01 12:39:39 PM GMT+8</td>\n",
              "      <td>Female</td>\n",
              "      <td>From 20 to 29</td>\n",
              "      <td>Student</td>\n",
              "      <td>Less than RM25,000</td>\n",
              "      <td>Rarely</td>\n",
              "      <td>Dine in</td>\n",
              "      <td>Between 30 minutes to 1 hour</td>\n",
              "      <td>more than 3km</td>\n",
              "      <td>No</td>\n",
              "      <td>...</td>\n",
              "      <td>Less than RM20</td>\n",
              "      <td>4</td>\n",
              "      <td>3</td>\n",
              "      <td>5</td>\n",
              "      <td>5</td>\n",
              "      <td>4</td>\n",
              "      <td>5</td>\n",
              "      <td>4</td>\n",
              "      <td>Social Media</td>\n",
              "      <td>Yes</td>\n",
              "    </tr>\n",
              "    <tr>\n",
              "      <th>6</th>\n",
              "      <td>2019/10/01 12:39:42 PM GMT+8</td>\n",
              "      <td>Female</td>\n",
              "      <td>From 20 to 29</td>\n",
              "      <td>Student</td>\n",
              "      <td>Less than RM25,000</td>\n",
              "      <td>Rarely</td>\n",
              "      <td>Dine in</td>\n",
              "      <td>Below 30 minutes</td>\n",
              "      <td>within 1km</td>\n",
              "      <td>Yes</td>\n",
              "      <td>...</td>\n",
              "      <td>Around RM20 - RM40</td>\n",
              "      <td>5</td>\n",
              "      <td>5</td>\n",
              "      <td>5</td>\n",
              "      <td>5</td>\n",
              "      <td>3</td>\n",
              "      <td>5</td>\n",
              "      <td>5</td>\n",
              "      <td>Starbucks Website/Apps;Social Media</td>\n",
              "      <td>Yes</td>\n",
              "    </tr>\n",
              "    <tr>\n",
              "      <th>7</th>\n",
              "      <td>2019/10/01 12:40:58 PM GMT+8</td>\n",
              "      <td>Male</td>\n",
              "      <td>From 20 to 29</td>\n",
              "      <td>Employed</td>\n",
              "      <td>RM50,000 - RM100,000</td>\n",
              "      <td>Rarely</td>\n",
              "      <td>Dine in</td>\n",
              "      <td>Between 30 minutes to 1 hour</td>\n",
              "      <td>more than 3km</td>\n",
              "      <td>Yes</td>\n",
              "      <td>...</td>\n",
              "      <td>Less than RM20</td>\n",
              "      <td>4</td>\n",
              "      <td>2</td>\n",
              "      <td>3</td>\n",
              "      <td>3</td>\n",
              "      <td>3</td>\n",
              "      <td>3</td>\n",
              "      <td>3</td>\n",
              "      <td>Starbucks Website/Apps;Social Media;Emails;Thr...</td>\n",
              "      <td>Yes</td>\n",
              "    </tr>\n",
              "    <tr>\n",
              "      <th>8</th>\n",
              "      <td>2019/10/01 12:42:27 PM GMT+8</td>\n",
              "      <td>Female</td>\n",
              "      <td>From 20 to 29</td>\n",
              "      <td>Student</td>\n",
              "      <td>Less than RM25,000</td>\n",
              "      <td>Rarely</td>\n",
              "      <td>Drive-thru</td>\n",
              "      <td>Below 30 minutes</td>\n",
              "      <td>more than 3km</td>\n",
              "      <td>Yes</td>\n",
              "      <td>...</td>\n",
              "      <td>More than RM40</td>\n",
              "      <td>5</td>\n",
              "      <td>4</td>\n",
              "      <td>4</td>\n",
              "      <td>4</td>\n",
              "      <td>4</td>\n",
              "      <td>4</td>\n",
              "      <td>4</td>\n",
              "      <td>Starbucks Website/Apps;Social Media;Through fr...</td>\n",
              "      <td>Yes</td>\n",
              "    </tr>\n",
              "    <tr>\n",
              "      <th>9</th>\n",
              "      <td>2019/10/01 12:43:36 PM GMT+8</td>\n",
              "      <td>Male</td>\n",
              "      <td>From 20 to 29</td>\n",
              "      <td>Employed</td>\n",
              "      <td>Less than RM25,000</td>\n",
              "      <td>Monthly</td>\n",
              "      <td>Take away</td>\n",
              "      <td>Below 30 minutes</td>\n",
              "      <td>more than 3km</td>\n",
              "      <td>No</td>\n",
              "      <td>...</td>\n",
              "      <td>Around RM20 - RM40</td>\n",
              "      <td>4</td>\n",
              "      <td>3</td>\n",
              "      <td>3</td>\n",
              "      <td>4</td>\n",
              "      <td>3</td>\n",
              "      <td>3</td>\n",
              "      <td>4</td>\n",
              "      <td>Social Media;Through friends and word of mouth</td>\n",
              "      <td>Yes</td>\n",
              "    </tr>\n",
              "  </tbody>\n",
              "</table>\n",
              "<p>10 rows × 21 columns</p>\n",
              "</div>\n",
              "    <div class=\"colab-df-buttons\">\n",
              "\n",
              "  <div class=\"colab-df-container\">\n",
              "    <button class=\"colab-df-convert\" onclick=\"convertToInteractive('df-0225be04-3747-46eb-a8fd-50d87df696ca')\"\n",
              "            title=\"Convert this dataframe to an interactive table.\"\n",
              "            style=\"display:none;\">\n",
              "\n",
              "  <svg xmlns=\"http://www.w3.org/2000/svg\" height=\"24px\" viewBox=\"0 -960 960 960\">\n",
              "    <path d=\"M120-120v-720h720v720H120Zm60-500h600v-160H180v160Zm220 220h160v-160H400v160Zm0 220h160v-160H400v160ZM180-400h160v-160H180v160Zm440 0h160v-160H620v160ZM180-180h160v-160H180v160Zm440 0h160v-160H620v160Z\"/>\n",
              "  </svg>\n",
              "    </button>\n",
              "\n",
              "  <style>\n",
              "    .colab-df-container {\n",
              "      display:flex;\n",
              "      gap: 12px;\n",
              "    }\n",
              "\n",
              "    .colab-df-convert {\n",
              "      background-color: #E8F0FE;\n",
              "      border: none;\n",
              "      border-radius: 50%;\n",
              "      cursor: pointer;\n",
              "      display: none;\n",
              "      fill: #1967D2;\n",
              "      height: 32px;\n",
              "      padding: 0 0 0 0;\n",
              "      width: 32px;\n",
              "    }\n",
              "\n",
              "    .colab-df-convert:hover {\n",
              "      background-color: #E2EBFA;\n",
              "      box-shadow: 0px 1px 2px rgba(60, 64, 67, 0.3), 0px 1px 3px 1px rgba(60, 64, 67, 0.15);\n",
              "      fill: #174EA6;\n",
              "    }\n",
              "\n",
              "    .colab-df-buttons div {\n",
              "      margin-bottom: 4px;\n",
              "    }\n",
              "\n",
              "    [theme=dark] .colab-df-convert {\n",
              "      background-color: #3B4455;\n",
              "      fill: #D2E3FC;\n",
              "    }\n",
              "\n",
              "    [theme=dark] .colab-df-convert:hover {\n",
              "      background-color: #434B5C;\n",
              "      box-shadow: 0px 1px 3px 1px rgba(0, 0, 0, 0.15);\n",
              "      filter: drop-shadow(0px 1px 2px rgba(0, 0, 0, 0.3));\n",
              "      fill: #FFFFFF;\n",
              "    }\n",
              "  </style>\n",
              "\n",
              "    <script>\n",
              "      const buttonEl =\n",
              "        document.querySelector('#df-0225be04-3747-46eb-a8fd-50d87df696ca button.colab-df-convert');\n",
              "      buttonEl.style.display =\n",
              "        google.colab.kernel.accessAllowed ? 'block' : 'none';\n",
              "\n",
              "      async function convertToInteractive(key) {\n",
              "        const element = document.querySelector('#df-0225be04-3747-46eb-a8fd-50d87df696ca');\n",
              "        const dataTable =\n",
              "          await google.colab.kernel.invokeFunction('convertToInteractive',\n",
              "                                                    [key], {});\n",
              "        if (!dataTable) return;\n",
              "\n",
              "        const docLinkHtml = 'Like what you see? Visit the ' +\n",
              "          '<a target=\"_blank\" href=https://colab.research.google.com/notebooks/data_table.ipynb>data table notebook</a>'\n",
              "          + ' to learn more about interactive tables.';\n",
              "        element.innerHTML = '';\n",
              "        dataTable['output_type'] = 'display_data';\n",
              "        await google.colab.output.renderOutput(dataTable, element);\n",
              "        const docLink = document.createElement('div');\n",
              "        docLink.innerHTML = docLinkHtml;\n",
              "        element.appendChild(docLink);\n",
              "      }\n",
              "    </script>\n",
              "  </div>\n",
              "\n",
              "\n",
              "<div id=\"df-23fed5b4-606b-4dae-bd91-8882d2a75309\">\n",
              "  <button class=\"colab-df-quickchart\" onclick=\"quickchart('df-23fed5b4-606b-4dae-bd91-8882d2a75309')\"\n",
              "            title=\"Suggest charts\"\n",
              "            style=\"display:none;\">\n",
              "\n",
              "<svg xmlns=\"http://www.w3.org/2000/svg\" height=\"24px\"viewBox=\"0 0 24 24\"\n",
              "     width=\"24px\">\n",
              "    <g>\n",
              "        <path d=\"M19 3H5c-1.1 0-2 .9-2 2v14c0 1.1.9 2 2 2h14c1.1 0 2-.9 2-2V5c0-1.1-.9-2-2-2zM9 17H7v-7h2v7zm4 0h-2V7h2v10zm4 0h-2v-4h2v4z\"/>\n",
              "    </g>\n",
              "</svg>\n",
              "  </button>\n",
              "\n",
              "<style>\n",
              "  .colab-df-quickchart {\n",
              "      --bg-color: #E8F0FE;\n",
              "      --fill-color: #1967D2;\n",
              "      --hover-bg-color: #E2EBFA;\n",
              "      --hover-fill-color: #174EA6;\n",
              "      --disabled-fill-color: #AAA;\n",
              "      --disabled-bg-color: #DDD;\n",
              "  }\n",
              "\n",
              "  [theme=dark] .colab-df-quickchart {\n",
              "      --bg-color: #3B4455;\n",
              "      --fill-color: #D2E3FC;\n",
              "      --hover-bg-color: #434B5C;\n",
              "      --hover-fill-color: #FFFFFF;\n",
              "      --disabled-bg-color: #3B4455;\n",
              "      --disabled-fill-color: #666;\n",
              "  }\n",
              "\n",
              "  .colab-df-quickchart {\n",
              "    background-color: var(--bg-color);\n",
              "    border: none;\n",
              "    border-radius: 50%;\n",
              "    cursor: pointer;\n",
              "    display: none;\n",
              "    fill: var(--fill-color);\n",
              "    height: 32px;\n",
              "    padding: 0;\n",
              "    width: 32px;\n",
              "  }\n",
              "\n",
              "  .colab-df-quickchart:hover {\n",
              "    background-color: var(--hover-bg-color);\n",
              "    box-shadow: 0 1px 2px rgba(60, 64, 67, 0.3), 0 1px 3px 1px rgba(60, 64, 67, 0.15);\n",
              "    fill: var(--button-hover-fill-color);\n",
              "  }\n",
              "\n",
              "  .colab-df-quickchart-complete:disabled,\n",
              "  .colab-df-quickchart-complete:disabled:hover {\n",
              "    background-color: var(--disabled-bg-color);\n",
              "    fill: var(--disabled-fill-color);\n",
              "    box-shadow: none;\n",
              "  }\n",
              "\n",
              "  .colab-df-spinner {\n",
              "    border: 2px solid var(--fill-color);\n",
              "    border-color: transparent;\n",
              "    border-bottom-color: var(--fill-color);\n",
              "    animation:\n",
              "      spin 1s steps(1) infinite;\n",
              "  }\n",
              "\n",
              "  @keyframes spin {\n",
              "    0% {\n",
              "      border-color: transparent;\n",
              "      border-bottom-color: var(--fill-color);\n",
              "      border-left-color: var(--fill-color);\n",
              "    }\n",
              "    20% {\n",
              "      border-color: transparent;\n",
              "      border-left-color: var(--fill-color);\n",
              "      border-top-color: var(--fill-color);\n",
              "    }\n",
              "    30% {\n",
              "      border-color: transparent;\n",
              "      border-left-color: var(--fill-color);\n",
              "      border-top-color: var(--fill-color);\n",
              "      border-right-color: var(--fill-color);\n",
              "    }\n",
              "    40% {\n",
              "      border-color: transparent;\n",
              "      border-right-color: var(--fill-color);\n",
              "      border-top-color: var(--fill-color);\n",
              "    }\n",
              "    60% {\n",
              "      border-color: transparent;\n",
              "      border-right-color: var(--fill-color);\n",
              "    }\n",
              "    80% {\n",
              "      border-color: transparent;\n",
              "      border-right-color: var(--fill-color);\n",
              "      border-bottom-color: var(--fill-color);\n",
              "    }\n",
              "    90% {\n",
              "      border-color: transparent;\n",
              "      border-bottom-color: var(--fill-color);\n",
              "    }\n",
              "  }\n",
              "</style>\n",
              "\n",
              "  <script>\n",
              "    async function quickchart(key) {\n",
              "      const quickchartButtonEl =\n",
              "        document.querySelector('#' + key + ' button');\n",
              "      quickchartButtonEl.disabled = true;  // To prevent multiple clicks.\n",
              "      quickchartButtonEl.classList.add('colab-df-spinner');\n",
              "      try {\n",
              "        const charts = await google.colab.kernel.invokeFunction(\n",
              "            'suggestCharts', [key], {});\n",
              "      } catch (error) {\n",
              "        console.error('Error during call to suggestCharts:', error);\n",
              "      }\n",
              "      quickchartButtonEl.classList.remove('colab-df-spinner');\n",
              "      quickchartButtonEl.classList.add('colab-df-quickchart-complete');\n",
              "    }\n",
              "    (() => {\n",
              "      let quickchartButtonEl =\n",
              "        document.querySelector('#df-23fed5b4-606b-4dae-bd91-8882d2a75309 button');\n",
              "      quickchartButtonEl.style.display =\n",
              "        google.colab.kernel.accessAllowed ? 'block' : 'none';\n",
              "    })();\n",
              "  </script>\n",
              "</div>\n",
              "\n",
              "    </div>\n",
              "  </div>\n"
            ],
            "application/vnd.google.colaboratory.intrinsic+json": {
              "type": "dataframe",
              "variable_name": "df"
            }
          },
          "metadata": {},
          "execution_count": 5
        }
      ],
      "source": [
        "df.head(10)"
      ]
    },
    {
      "cell_type": "code",
      "execution_count": 6,
      "metadata": {
        "colab": {
          "base_uri": "https://localhost:8080/"
        },
        "id": "JvM6XPL8eDzB",
        "outputId": "7a02a448-8354-491e-a3e5-16f1e2bbc6e9"
      },
      "outputs": [
        {
          "output_type": "stream",
          "name": "stdout",
          "text": [
            "<class 'pandas.core.frame.DataFrame'>\n",
            "RangeIndex: 122 entries, 0 to 121\n",
            "Data columns (total 21 columns):\n",
            " #   Column                                                                                                                     Non-Null Count  Dtype \n",
            "---  ------                                                                                                                     --------------  ----- \n",
            " 0   Timestamp                                                                                                                  122 non-null    object\n",
            " 1   1. Your Gender                                                                                                             122 non-null    object\n",
            " 2   2. Your Age                                                                                                                122 non-null    object\n",
            " 3   3. Are you currently....?                                                                                                  122 non-null    object\n",
            " 4   4. What is your annual income?                                                                                             122 non-null    object\n",
            " 5   5. How often do you visit Coffee House?                                                                                    122 non-null    object\n",
            " 6   6. How do you usually enjoy Coffee House?                                                                                  121 non-null    object\n",
            " 7   7. How much time do you normally  spend during your visit?                                                                 122 non-null    object\n",
            " 8   8. The nearest Coffee House's outlet to you is...?                                                                         122 non-null    object\n",
            " 9   9. Do you have Coffee House membership card?                                                                               122 non-null    object\n",
            " 10  10. What do you most frequently purchase at Coffee House?                                                                  122 non-null    object\n",
            " 11  11. On average, how much would you spend at Coffee House per visit?                                                        122 non-null    object\n",
            " 12  12. How would you rate the quality of Coffee House compared to other brands (Coffee Bean, Old Town White Coffee..) to be:  122 non-null    int64 \n",
            " 13  13. How would you rate the price range at Coffee House?                                                                    122 non-null    int64 \n",
            " 14  14. How important are sales and promotions in your purchase decision?                                                      122 non-null    int64 \n",
            " 15  15. How would you rate the ambiance at Coffee House? (lighting, music, etc...)                                             122 non-null    int64 \n",
            " 16  16. You rate the WiFi quality at Coffee House as..                                                                         122 non-null    int64 \n",
            " 17  17. How would you rate the service at Coffee House? (Promptness, friendliness, etc..)                                      122 non-null    int64 \n",
            " 18  18. How likely you will choose Coffee House for doing business meetings or hangout with friends?                           122 non-null    int64 \n",
            " 19  19. How do you come to hear of promotions at Coffee House? Check all that apply.                                           121 non-null    object\n",
            " 20  20. Will you continue buying Coffee House?                                                                                 122 non-null    object\n",
            "dtypes: int64(7), object(14)\n",
            "memory usage: 20.1+ KB\n"
          ]
        }
      ],
      "source": [
        "df.info()"
      ]
    },
    {
      "cell_type": "code",
      "execution_count": 7,
      "metadata": {
        "id": "6kIEJ4iLeIr-"
      },
      "outputs": [],
      "source": [
        "df= df.drop('Timestamp',axis=1)\n",
        "df.columns=['Gender','Age','Status','Income','Frequency','Method','timepervisit','nearest','membership','fequencyofpurchase','spending','comparerate','pricerate','promotion','rateambiance','Wifi','rateservice','situational','source','loyalty']"
      ]
    },
    {
      "cell_type": "code",
      "execution_count": 8,
      "metadata": {
        "colab": {
          "base_uri": "https://localhost:8080/"
        },
        "id": "uthLM1WTeSLt",
        "outputId": "5a2ce1b4-b277-4c16-b382-586b2b71469c"
      },
      "outputs": [
        {
          "output_type": "stream",
          "name": "stdout",
          "text": [
            "<class 'pandas.core.frame.DataFrame'>\n",
            "RangeIndex: 122 entries, 0 to 121\n",
            "Data columns (total 20 columns):\n",
            " #   Column              Non-Null Count  Dtype \n",
            "---  ------              --------------  ----- \n",
            " 0   Gender              122 non-null    object\n",
            " 1   Age                 122 non-null    object\n",
            " 2   Status              122 non-null    object\n",
            " 3   Income              122 non-null    object\n",
            " 4   Frequency           122 non-null    object\n",
            " 5   Method              121 non-null    object\n",
            " 6   timepervisit        122 non-null    object\n",
            " 7   nearest             122 non-null    object\n",
            " 8   membership          122 non-null    object\n",
            " 9   fequencyofpurchase  122 non-null    object\n",
            " 10  spending            122 non-null    object\n",
            " 11  comparerate         122 non-null    int64 \n",
            " 12  pricerate           122 non-null    int64 \n",
            " 13  promotion           122 non-null    int64 \n",
            " 14  rateambiance        122 non-null    int64 \n",
            " 15  Wifi                122 non-null    int64 \n",
            " 16  rateservice         122 non-null    int64 \n",
            " 17  situational         122 non-null    int64 \n",
            " 18  source              121 non-null    object\n",
            " 19  loyalty             122 non-null    object\n",
            "dtypes: int64(7), object(13)\n",
            "memory usage: 19.2+ KB\n"
          ]
        }
      ],
      "source": [
        "df.info()"
      ]
    },
    {
      "cell_type": "code",
      "execution_count": 9,
      "metadata": {
        "id": "DvCo1TdWeUU8"
      },
      "outputs": [],
      "source": [
        "df = df.dropna()"
      ]
    },
    {
      "cell_type": "code",
      "execution_count": 10,
      "metadata": {
        "colab": {
          "base_uri": "https://localhost:8080/",
          "height": 269
        },
        "id": "Zs9RRJlCebUh",
        "outputId": "60d10c26-f541-4550-f0dc-89b4a17561b8"
      },
      "outputs": [
        {
          "output_type": "execute_result",
          "data": {
            "text/plain": [
              "<pandas.io.formats.style.Styler at 0x784298c199d0>"
            ],
            "text/html": [
              "<style type=\"text/css\">\n",
              "#T_6dd44_row0_col0 {\n",
              "  background-color: #2182b9;\n",
              "  color: #f1f1f1;\n",
              "}\n",
              "#T_6dd44_row0_col1 {\n",
              "  background-color: #7dacd1;\n",
              "  color: #f1f1f1;\n",
              "}\n",
              "#T_6dd44_row0_col2 {\n",
              "  background-color: #167bb6;\n",
              "  color: #f1f1f1;\n",
              "}\n",
              "#T_6dd44_row0_col3 {\n",
              "  background-color: #197db7;\n",
              "  color: #f1f1f1;\n",
              "}\n",
              "#T_6dd44_row0_col4 {\n",
              "  background-color: #529bc7;\n",
              "  color: #f1f1f1;\n",
              "}\n",
              "#T_6dd44_row0_col5 {\n",
              "  background-color: #187cb6;\n",
              "  color: #f1f1f1;\n",
              "}\n",
              "#T_6dd44_row0_col6 {\n",
              "  background-color: #348ebf;\n",
              "  color: #f1f1f1;\n",
              "}\n",
              "#T_6dd44_row1_col0, #T_6dd44_row1_col3, #T_6dd44_row1_col4, #T_6dd44_row1_col5, #T_6dd44_row2_col1, #T_6dd44_row2_col2, #T_6dd44_row2_col6 {\n",
              "  background-color: #fff7fb;\n",
              "  color: #000000;\n",
              "}\n",
              "#T_6dd44_row1_col1, #T_6dd44_row1_col2, #T_6dd44_row2_col3 {\n",
              "  background-color: #fdf5fa;\n",
              "  color: #000000;\n",
              "}\n",
              "#T_6dd44_row1_col6, #T_6dd44_row2_col4 {\n",
              "  background-color: #fef6fa;\n",
              "  color: #000000;\n",
              "}\n",
              "#T_6dd44_row2_col0 {\n",
              "  background-color: #fcf4fa;\n",
              "  color: #000000;\n",
              "}\n",
              "#T_6dd44_row2_col5 {\n",
              "  background-color: #f9f2f8;\n",
              "  color: #000000;\n",
              "}\n",
              "#T_6dd44_row3_col0, #T_6dd44_row3_col3 {\n",
              "  background-color: #6fa7ce;\n",
              "  color: #f1f1f1;\n",
              "}\n",
              "#T_6dd44_row3_col1 {\n",
              "  background-color: #d0d1e6;\n",
              "  color: #000000;\n",
              "}\n",
              "#T_6dd44_row3_col2, #T_6dd44_row3_col6, #T_6dd44_row4_col1 {\n",
              "  background-color: #73a9cf;\n",
              "  color: #f1f1f1;\n",
              "}\n",
              "#T_6dd44_row3_col4, #T_6dd44_row4_col4 {\n",
              "  background-color: #71a8ce;\n",
              "  color: #f1f1f1;\n",
              "}\n",
              "#T_6dd44_row3_col5 {\n",
              "  background-color: #69a5cc;\n",
              "  color: #f1f1f1;\n",
              "}\n",
              "#T_6dd44_row4_col0, #T_6dd44_row4_col3, #T_6dd44_row5_col0, #T_6dd44_row5_col3 {\n",
              "  background-color: #056fae;\n",
              "  color: #f1f1f1;\n",
              "}\n",
              "#T_6dd44_row4_col2, #T_6dd44_row4_col6, #T_6dd44_row5_col1, #T_6dd44_row5_col4, #T_6dd44_row5_col6 {\n",
              "  background-color: #056faf;\n",
              "  color: #f1f1f1;\n",
              "}\n",
              "#T_6dd44_row4_col5, #T_6dd44_row5_col5 {\n",
              "  background-color: #056ead;\n",
              "  color: #f1f1f1;\n",
              "}\n",
              "#T_6dd44_row5_col2, #T_6dd44_row6_col0, #T_6dd44_row6_col1, #T_6dd44_row6_col2, #T_6dd44_row6_col3, #T_6dd44_row6_col4, #T_6dd44_row6_col5, #T_6dd44_row6_col6 {\n",
              "  background-color: #023858;\n",
              "  color: #f1f1f1;\n",
              "}\n",
              "</style>\n",
              "<table id=\"T_6dd44\" class=\"dataframe\">\n",
              "  <thead>\n",
              "    <tr>\n",
              "      <th class=\"blank level0\" >&nbsp;</th>\n",
              "      <th id=\"T_6dd44_level0_col0\" class=\"col_heading level0 col0\" >comparerate</th>\n",
              "      <th id=\"T_6dd44_level0_col1\" class=\"col_heading level0 col1\" >pricerate</th>\n",
              "      <th id=\"T_6dd44_level0_col2\" class=\"col_heading level0 col2\" >promotion</th>\n",
              "      <th id=\"T_6dd44_level0_col3\" class=\"col_heading level0 col3\" >rateambiance</th>\n",
              "      <th id=\"T_6dd44_level0_col4\" class=\"col_heading level0 col4\" >Wifi</th>\n",
              "      <th id=\"T_6dd44_level0_col5\" class=\"col_heading level0 col5\" >rateservice</th>\n",
              "      <th id=\"T_6dd44_level0_col6\" class=\"col_heading level0 col6\" >situational</th>\n",
              "    </tr>\n",
              "  </thead>\n",
              "  <tbody>\n",
              "    <tr>\n",
              "      <th id=\"T_6dd44_level0_row0\" class=\"row_heading level0 row0\" >mean</th>\n",
              "      <td id=\"T_6dd44_row0_col0\" class=\"data row0 col0\" >3.685950</td>\n",
              "      <td id=\"T_6dd44_row0_col1\" class=\"data row0 col1\" >2.909091</td>\n",
              "      <td id=\"T_6dd44_row0_col2\" class=\"data row0 col2\" >3.818182</td>\n",
              "      <td id=\"T_6dd44_row0_col3\" class=\"data row0 col3\" >3.760331</td>\n",
              "      <td id=\"T_6dd44_row0_col4\" class=\"data row0 col4\" >3.256198</td>\n",
              "      <td id=\"T_6dd44_row0_col5\" class=\"data row0 col5\" >3.752066</td>\n",
              "      <td id=\"T_6dd44_row0_col6\" class=\"data row0 col6\" >3.520661</td>\n",
              "    </tr>\n",
              "    <tr>\n",
              "      <th id=\"T_6dd44_level0_row1\" class=\"row_heading level0 row1\" >std</th>\n",
              "      <td id=\"T_6dd44_row1_col0\" class=\"data row1 col0\" >0.913173</td>\n",
              "      <td id=\"T_6dd44_row1_col1\" class=\"data row1 col1\" >1.072381</td>\n",
              "      <td id=\"T_6dd44_row1_col2\" class=\"data row1 col2\" >1.064581</td>\n",
              "      <td id=\"T_6dd44_row1_col3\" class=\"data row1 col3\" >0.931171</td>\n",
              "      <td id=\"T_6dd44_row1_col4\" class=\"data row1 col4\" >0.962020</td>\n",
              "      <td id=\"T_6dd44_row1_col5\" class=\"data row1 col5\" >0.829468</td>\n",
              "      <td id=\"T_6dd44_row1_col6\" class=\"data row1 col6\" >1.033595</td>\n",
              "    </tr>\n",
              "    <tr>\n",
              "      <th id=\"T_6dd44_level0_row2\" class=\"row_heading level0 row2\" >min</th>\n",
              "      <td id=\"T_6dd44_row2_col0\" class=\"data row2 col0\" >1.000000</td>\n",
              "      <td id=\"T_6dd44_row2_col1\" class=\"data row2 col1\" >1.000000</td>\n",
              "      <td id=\"T_6dd44_row2_col2\" class=\"data row2 col2\" >1.000000</td>\n",
              "      <td id=\"T_6dd44_row2_col3\" class=\"data row2 col3\" >1.000000</td>\n",
              "      <td id=\"T_6dd44_row2_col4\" class=\"data row2 col4\" >1.000000</td>\n",
              "      <td id=\"T_6dd44_row2_col5\" class=\"data row2 col5\" >1.000000</td>\n",
              "      <td id=\"T_6dd44_row2_col6\" class=\"data row2 col6\" >1.000000</td>\n",
              "    </tr>\n",
              "    <tr>\n",
              "      <th id=\"T_6dd44_level0_row3\" class=\"row_heading level0 row3\" >25%</th>\n",
              "      <td id=\"T_6dd44_row3_col0\" class=\"data row3 col0\" >3.000000</td>\n",
              "      <td id=\"T_6dd44_row3_col1\" class=\"data row3 col1\" >2.000000</td>\n",
              "      <td id=\"T_6dd44_row3_col2\" class=\"data row3 col2\" >3.000000</td>\n",
              "      <td id=\"T_6dd44_row3_col3\" class=\"data row3 col3\" >3.000000</td>\n",
              "      <td id=\"T_6dd44_row3_col4\" class=\"data row3 col4\" >3.000000</td>\n",
              "      <td id=\"T_6dd44_row3_col5\" class=\"data row3 col5\" >3.000000</td>\n",
              "      <td id=\"T_6dd44_row3_col6\" class=\"data row3 col6\" >3.000000</td>\n",
              "    </tr>\n",
              "    <tr>\n",
              "      <th id=\"T_6dd44_level0_row4\" class=\"row_heading level0 row4\" >50%</th>\n",
              "      <td id=\"T_6dd44_row4_col0\" class=\"data row4 col0\" >4.000000</td>\n",
              "      <td id=\"T_6dd44_row4_col1\" class=\"data row4 col1\" >3.000000</td>\n",
              "      <td id=\"T_6dd44_row4_col2\" class=\"data row4 col2\" >4.000000</td>\n",
              "      <td id=\"T_6dd44_row4_col3\" class=\"data row4 col3\" >4.000000</td>\n",
              "      <td id=\"T_6dd44_row4_col4\" class=\"data row4 col4\" >3.000000</td>\n",
              "      <td id=\"T_6dd44_row4_col5\" class=\"data row4 col5\" >4.000000</td>\n",
              "      <td id=\"T_6dd44_row4_col6\" class=\"data row4 col6\" >4.000000</td>\n",
              "    </tr>\n",
              "    <tr>\n",
              "      <th id=\"T_6dd44_level0_row5\" class=\"row_heading level0 row5\" >75%</th>\n",
              "      <td id=\"T_6dd44_row5_col0\" class=\"data row5 col0\" >4.000000</td>\n",
              "      <td id=\"T_6dd44_row5_col1\" class=\"data row5 col1\" >4.000000</td>\n",
              "      <td id=\"T_6dd44_row5_col2\" class=\"data row5 col2\" >5.000000</td>\n",
              "      <td id=\"T_6dd44_row5_col3\" class=\"data row5 col3\" >4.000000</td>\n",
              "      <td id=\"T_6dd44_row5_col4\" class=\"data row5 col4\" >4.000000</td>\n",
              "      <td id=\"T_6dd44_row5_col5\" class=\"data row5 col5\" >4.000000</td>\n",
              "      <td id=\"T_6dd44_row5_col6\" class=\"data row5 col6\" >4.000000</td>\n",
              "    </tr>\n",
              "    <tr>\n",
              "      <th id=\"T_6dd44_level0_row6\" class=\"row_heading level0 row6\" >max</th>\n",
              "      <td id=\"T_6dd44_row6_col0\" class=\"data row6 col0\" >5.000000</td>\n",
              "      <td id=\"T_6dd44_row6_col1\" class=\"data row6 col1\" >5.000000</td>\n",
              "      <td id=\"T_6dd44_row6_col2\" class=\"data row6 col2\" >5.000000</td>\n",
              "      <td id=\"T_6dd44_row6_col3\" class=\"data row6 col3\" >5.000000</td>\n",
              "      <td id=\"T_6dd44_row6_col4\" class=\"data row6 col4\" >5.000000</td>\n",
              "      <td id=\"T_6dd44_row6_col5\" class=\"data row6 col5\" >5.000000</td>\n",
              "      <td id=\"T_6dd44_row6_col6\" class=\"data row6 col6\" >5.000000</td>\n",
              "    </tr>\n",
              "  </tbody>\n",
              "</table>\n"
            ]
          },
          "metadata": {},
          "execution_count": 10
        }
      ],
      "source": [
        "df.describe().iloc[1:, :].style.background_gradient()"
      ]
    },
    {
      "cell_type": "code",
      "execution_count": 11,
      "metadata": {
        "colab": {
          "base_uri": "https://localhost:8080/",
          "height": 447
        },
        "id": "NyE1JKF6fGOS",
        "outputId": "d0488f21-2c5d-4bae-fe5a-7b57d7aa7895"
      },
      "outputs": [
        {
          "output_type": "execute_result",
          "data": {
            "text/plain": [
              "<Axes: ylabel='Age'>"
            ]
          },
          "metadata": {},
          "execution_count": 11
        },
        {
          "output_type": "display_data",
          "data": {
            "text/plain": [
              "<Figure size 640x480 with 1 Axes>"
            ],
            "image/png": "[encoded data removed]"
          },
          "metadata": {}
        }
      ],
      "source": [
        "df.Age.value_counts()\n",
        "df['Age'].value_counts().plot(kind='barh')"
      ]
    },
    {
      "cell_type": "code",
      "execution_count": 12,
      "metadata": {
        "colab": {
          "base_uri": "https://localhost:8080/",
          "height": 447
        },
        "id": "jZfwXszNfQ14",
        "outputId": "ebca8c6b-4564-485a-e2a5-7d4837613bc6"
      },
      "outputs": [
        {
          "output_type": "execute_result",
          "data": {
            "text/plain": [
              "<Axes: ylabel='Status'>"
            ]
          },
          "metadata": {},
          "execution_count": 12
        },
        {
          "output_type": "display_data",
          "data": {
            "text/plain": [
              "<Figure size 640x480 with 1 Axes>"
            ],
            "image/png": "[encoded data removed]"
          },
          "metadata": {}
        }
      ],
      "source": [
        "df['Status'].value_counts().plot(kind='barh')"
      ]
    },
    {
      "cell_type": "code",
      "execution_count": 13,
      "metadata": {
        "colab": {
          "base_uri": "https://localhost:8080/",
          "height": 447
        },
        "id": "ruWS2fGMf2Lx",
        "outputId": "e440c36d-8c8b-426c-ff60-353600c7813a"
      },
      "outputs": [
        {
          "output_type": "execute_result",
          "data": {
            "text/plain": [
              "<Axes: ylabel='Income'>"
            ]
          },
          "metadata": {},
          "execution_count": 13
        },
        {
          "output_type": "display_data",
          "data": {
            "text/plain": [
              "<Figure size 640x480 with 1 Axes>"
            ],
            "image/png": "[encoded data removed]"
          },
          "metadata": {}
        }
      ],
      "source": [
        "df['Income'].value_counts().plot(kind='barh')"
      ]
    },
    {
      "cell_type": "code",
      "execution_count": 14,
      "metadata": {
        "colab": {
          "base_uri": "https://localhost:8080/",
          "height": 241
        },
        "id": "kg2ibhwQhHMW",
        "outputId": "75e8d412-1f1f-4615-e708-85d1994d004b"
      },
      "outputs": [
        {
          "output_type": "execute_result",
          "data": {
            "text/plain": [
              "Age\n",
              "From 20 to 29    84\n",
              "From 30 to 39    17\n",
              "Below 20         13\n",
              "40 and above      7\n",
              "Name: count, dtype: int64"
            ],
            "text/html": [
              "<div>\n",
              "<style scoped>\n",
              "    .dataframe tbody tr th:only-of-type {\n",
              "        vertical-align: middle;\n",
              "    }\n",
              "\n",
              "    .dataframe tbody tr th {\n",
              "        vertical-align: top;\n",
              "    }\n",
              "\n",
              "    .dataframe thead th {\n",
              "        text-align: right;\n",
              "    }\n",
              "</style>\n",
              "<table border=\"1\" class=\"dataframe\">\n",
              "  <thead>\n",
              "    <tr style=\"text-align: right;\">\n",
              "      <th></th>\n",
              "      <th>count</th>\n",
              "    </tr>\n",
              "    <tr>\n",
              "      <th>Age</th>\n",
              "      <th></th>\n",
              "    </tr>\n",
              "  </thead>\n",
              "  <tbody>\n",
              "    <tr>\n",
              "      <th>From 20 to 29</th>\n",
              "      <td>84</td>\n",
              "    </tr>\n",
              "    <tr>\n",
              "      <th>From 30 to 39</th>\n",
              "      <td>17</td>\n",
              "    </tr>\n",
              "    <tr>\n",
              "      <th>Below 20</th>\n",
              "      <td>13</td>\n",
              "    </tr>\n",
              "    <tr>\n",
              "      <th>40 and above</th>\n",
              "      <td>7</td>\n",
              "    </tr>\n",
              "  </tbody>\n",
              "</table>\n",
              "</div><br><label><b>dtype:</b> int64</label>"
            ]
          },
          "metadata": {},
          "execution_count": 14
        }
      ],
      "source": [
        "df.Age.value_counts()"
      ]
    },
    {
      "cell_type": "code",
      "execution_count": 15,
      "metadata": {
        "colab": {
          "base_uri": "https://localhost:8080/"
        },
        "id": "aE1JT7tshOM0",
        "outputId": "e4523c01-b895-4211-9b10-775f8b7e0ba7"
      },
      "outputs": [
        {
          "output_type": "stream",
          "name": "stderr",
          "text": [
            "<ipython-input-15-dad6f3950a09>:1: FutureWarning: A value is trying to be set on a copy of a DataFrame or Series through chained assignment using an inplace method.\n",
            "The behavior will change in pandas 3.0. This inplace method will never work because the intermediate object on which we are setting values always behaves as a copy.\n",
            "\n",
            "For example, when doing 'df[col].method(value, inplace=True)', try using 'df.method({col: value}, inplace=True)' or df[col] = df[col].method(value) instead, to perform the operation inplace on the original object.\n",
            "\n",
            "\n",
            "  df.Age.replace(('From 20 to 29', 'From 30 to 39', 'Below 20', '40 and above'), (2, 3, 1, 4), inplace=True)\n",
            "<ipython-input-15-dad6f3950a09>:1: FutureWarning: Downcasting behavior in `replace` is deprecated and will be removed in a future version. To retain the old behavior, explicitly call `result.infer_objects(copy=False)`. To opt-in to the future behavior, set `pd.set_option('future.no_silent_downcasting', True)`\n",
            "  df.Age.replace(('From 20 to 29', 'From 30 to 39', 'Below 20', '40 and above'), (2, 3, 1, 4), inplace=True)\n"
          ]
        }
      ],
      "source": [
        "df.Age.replace(('From 20 to 29', 'From 30 to 39', 'Below 20', '40 and above'), (2, 3, 1, 4), inplace=True)"
      ]
    },
    {
      "cell_type": "code",
      "execution_count": 16,
      "metadata": {
        "colab": {
          "base_uri": "https://localhost:8080/",
          "height": 241
        },
        "id": "wXP9PN9-hVrf",
        "outputId": "714e71b9-12ce-490d-9a91-8be361e497ae"
      },
      "outputs": [
        {
          "output_type": "execute_result",
          "data": {
            "text/plain": [
              "Status\n",
              "Employed         60\n",
              "Student          42\n",
              "Self-employed    17\n",
              "Housewife         2\n",
              "Name: count, dtype: int64"
            ],
            "text/html": [
              "<div>\n",
              "<style scoped>\n",
              "    .dataframe tbody tr th:only-of-type {\n",
              "        vertical-align: middle;\n",
              "    }\n",
              "\n",
              "    .dataframe tbody tr th {\n",
              "        vertical-align: top;\n",
              "    }\n",
              "\n",
              "    .dataframe thead th {\n",
              "        text-align: right;\n",
              "    }\n",
              "</style>\n",
              "<table border=\"1\" class=\"dataframe\">\n",
              "  <thead>\n",
              "    <tr style=\"text-align: right;\">\n",
              "      <th></th>\n",
              "      <th>count</th>\n",
              "    </tr>\n",
              "    <tr>\n",
              "      <th>Status</th>\n",
              "      <th></th>\n",
              "    </tr>\n",
              "  </thead>\n",
              "  <tbody>\n",
              "    <tr>\n",
              "      <th>Employed</th>\n",
              "      <td>60</td>\n",
              "    </tr>\n",
              "    <tr>\n",
              "      <th>Student</th>\n",
              "      <td>42</td>\n",
              "    </tr>\n",
              "    <tr>\n",
              "      <th>Self-employed</th>\n",
              "      <td>17</td>\n",
              "    </tr>\n",
              "    <tr>\n",
              "      <th>Housewife</th>\n",
              "      <td>2</td>\n",
              "    </tr>\n",
              "  </tbody>\n",
              "</table>\n",
              "</div><br><label><b>dtype:</b> int64</label>"
            ]
          },
          "metadata": {},
          "execution_count": 16
        }
      ],
      "source": [
        "df.Status.value_counts()"
      ]
    },
    {
      "cell_type": "code",
      "execution_count": 17,
      "metadata": {
        "colab": {
          "base_uri": "https://localhost:8080/"
        },
        "id": "cbu6kFrOhf6y",
        "outputId": "853a8ee6-502f-460b-e8cc-7d8820b87590"
      },
      "outputs": [
        {
          "output_type": "stream",
          "name": "stderr",
          "text": [
            "<ipython-input-17-e733386a0a14>:1: FutureWarning: A value is trying to be set on a copy of a DataFrame or Series through chained assignment using an inplace method.\n",
            "The behavior will change in pandas 3.0. This inplace method will never work because the intermediate object on which we are setting values always behaves as a copy.\n",
            "\n",
            "For example, when doing 'df[col].method(value, inplace=True)', try using 'df.method({col: value}, inplace=True)' or df[col] = df[col].method(value) instead, to perform the operation inplace on the original object.\n",
            "\n",
            "\n",
            "  df.Status.replace(('Employed', 'Student', 'Self-employed', 'Housewife'), (2, 1, 3, 4), inplace=True)\n",
            "<ipython-input-17-e733386a0a14>:1: FutureWarning: Downcasting behavior in `replace` is deprecated and will be removed in a future version. To retain the old behavior, explicitly call `result.infer_objects(copy=False)`. To opt-in to the future behavior, set `pd.set_option('future.no_silent_downcasting', True)`\n",
            "  df.Status.replace(('Employed', 'Student', 'Self-employed', 'Housewife'), (2, 1, 3, 4), inplace=True)\n"
          ]
        }
      ],
      "source": [
        "df.Status.replace(('Employed', 'Student', 'Self-employed', 'Housewife'), (2, 1, 3, 4), inplace=True)"
      ]
    },
    {
      "cell_type": "code",
      "execution_count": 18,
      "metadata": {
        "colab": {
          "base_uri": "https://localhost:8080/",
          "height": 272
        },
        "id": "9_D4Ootthkhg",
        "outputId": "bb9d0f05-0282-4ef3-d970-a4e68ea45ce6"
      },
      "outputs": [
        {
          "output_type": "execute_result",
          "data": {
            "text/plain": [
              "Income\n",
              "Less than RM25,000       70\n",
              "RM25,000 - RM50,000      25\n",
              "RM50,000 - RM100,000     17\n",
              "More than RM150,000       6\n",
              "RM100,000 - RM150,000     3\n",
              "Name: count, dtype: int64"
            ],
            "text/html": [
              "<div>\n",
              "<style scoped>\n",
              "    .dataframe tbody tr th:only-of-type {\n",
              "        vertical-align: middle;\n",
              "    }\n",
              "\n",
              "    .dataframe tbody tr th {\n",
              "        vertical-align: top;\n",
              "    }\n",
              "\n",
              "    .dataframe thead th {\n",
              "        text-align: right;\n",
              "    }\n",
              "</style>\n",
              "<table border=\"1\" class=\"dataframe\">\n",
              "  <thead>\n",
              "    <tr style=\"text-align: right;\">\n",
              "      <th></th>\n",
              "      <th>count</th>\n",
              "    </tr>\n",
              "    <tr>\n",
              "      <th>Income</th>\n",
              "      <th></th>\n",
              "    </tr>\n",
              "  </thead>\n",
              "  <tbody>\n",
              "    <tr>\n",
              "      <th>Less than RM25,000</th>\n",
              "      <td>70</td>\n",
              "    </tr>\n",
              "    <tr>\n",
              "      <th>RM25,000 - RM50,000</th>\n",
              "      <td>25</td>\n",
              "    </tr>\n",
              "    <tr>\n",
              "      <th>RM50,000 - RM100,000</th>\n",
              "      <td>17</td>\n",
              "    </tr>\n",
              "    <tr>\n",
              "      <th>More than RM150,000</th>\n",
              "      <td>6</td>\n",
              "    </tr>\n",
              "    <tr>\n",
              "      <th>RM100,000 - RM150,000</th>\n",
              "      <td>3</td>\n",
              "    </tr>\n",
              "  </tbody>\n",
              "</table>\n",
              "</div><br><label><b>dtype:</b> int64</label>"
            ]
          },
          "metadata": {},
          "execution_count": 18
        }
      ],
      "source": [
        "df.Income.value_counts()"
      ]
    },
    {
      "cell_type": "code",
      "execution_count": 19,
      "metadata": {
        "colab": {
          "base_uri": "https://localhost:8080/"
        },
        "id": "WsgTcMk6hnZe",
        "outputId": "2e17bb21-c2e4-49e8-c056-d8076e49c718"
      },
      "outputs": [
        {
          "output_type": "stream",
          "name": "stderr",
          "text": [
            "<ipython-input-19-e7d4c9f6e120>:1: FutureWarning: A value is trying to be set on a copy of a DataFrame or Series through chained assignment using an inplace method.\n",
            "The behavior will change in pandas 3.0. This inplace method will never work because the intermediate object on which we are setting values always behaves as a copy.\n",
            "\n",
            "For example, when doing 'df[col].method(value, inplace=True)', try using 'df.method({col: value}, inplace=True)' or df[col] = df[col].method(value) instead, to perform the operation inplace on the original object.\n",
            "\n",
            "\n",
            "  df.Income.replace(('Less than RM25,000', 'RM25,000 - RM50,000', 'RM50,000 - RM100,000', 'More than RM150,000', 'RM100,000 - RM150,000'), (1, 2, 3, 4, 5), inplace=True)\n",
            "<ipython-input-19-e7d4c9f6e120>:1: FutureWarning: Downcasting behavior in `replace` is deprecated and will be removed in a future version. To retain the old behavior, explicitly call `result.infer_objects(copy=False)`. To opt-in to the future behavior, set `pd.set_option('future.no_silent_downcasting', True)`\n",
            "  df.Income.replace(('Less than RM25,000', 'RM25,000 - RM50,000', 'RM50,000 - RM100,000', 'More than RM150,000', 'RM100,000 - RM150,000'), (1, 2, 3, 4, 5), inplace=True)\n"
          ]
        }
      ],
      "source": [
        "df.Income.replace(('Less than RM25,000', 'RM25,000 - RM50,000', 'RM50,000 - RM100,000', 'More than RM150,000', 'RM100,000 - RM150,000'), (1, 2, 3, 4, 5), inplace=True)"
      ]
    },
    {
      "cell_type": "code",
      "execution_count": 20,
      "metadata": {
        "colab": {
          "base_uri": "https://localhost:8080/",
          "height": 382
        },
        "id": "VklL00mthvyO",
        "outputId": "9dc90eaf-06bb-44b0-cdb9-802bc7f671c2"
      },
      "outputs": [
        {
          "output_type": "execute_result",
          "data": {
            "text/plain": [
              "   Gender  Age  Status  Income Frequency     Method  \\\n",
              "0  Female    2       1       1    Rarely    Dine in   \n",
              "1  Female    2       1       1    Rarely  Take away   \n",
              "2    Male    2       2       1   Monthly    Dine in   \n",
              "3  Female    2       1       1    Rarely  Take away   \n",
              "4    Male    2       1       1   Monthly  Take away   \n",
              "\n",
              "                   timepervisit        nearest membership  \\\n",
              "0  Between 30 minutes to 1 hour     within 1km        Yes   \n",
              "1              Below 30 minutes      1km - 3km        Yes   \n",
              "2  Between 30 minutes to 1 hour  more than 3km        Yes   \n",
              "3              Below 30 minutes  more than 3km         No   \n",
              "4  Between 30 minutes to 1 hour      1km - 3km         No   \n",
              "\n",
              "     fequencyofpurchase            spending  comparerate  pricerate  \\\n",
              "0                Coffee      Less than RM20            4          3   \n",
              "1  Cold drinks;Pastries      Less than RM20            4          3   \n",
              "2                Coffee      Less than RM20            4          3   \n",
              "3                Coffee      Less than RM20            2          1   \n",
              "4     Coffee;Sandwiches  Around RM20 - RM40            3          3   \n",
              "\n",
              "   promotion  rateambiance  Wifi  rateservice  situational  \\\n",
              "0          5             5     4            4            3   \n",
              "1          4             4     4            5            2   \n",
              "2          4             4     4            4            3   \n",
              "3          4             3     3            3            3   \n",
              "4          4             2     2            3            3   \n",
              "\n",
              "                                              source loyalty  \n",
              "0  Starbucks Website/Apps;Social Media;Emails;Dea...     Yes  \n",
              "1                     Social Media;In Store displays     Yes  \n",
              "2                       In Store displays;Billboards     Yes  \n",
              "3                  Through friends and word of mouth      No  \n",
              "4                Starbucks Website/Apps;Social Media     Yes  "
            ],
            "text/html": [
              "\n",
              "  <div id=\"df-39befa42-bc42-43de-b2a7-9e89c873eb61\" class=\"colab-df-container\">\n",
              "    <div>\n",
              "<style scoped>\n",
              "    .dataframe tbody tr th:only-of-type {\n",
              "        vertical-align: middle;\n",
              "    }\n",
              "\n",
              "    .dataframe tbody tr th {\n",
              "        vertical-align: top;\n",
              "    }\n",
              "\n",
              "    .dataframe thead th {\n",
              "        text-align: right;\n",
              "    }\n",
              "</style>\n",
              "<table border=\"1\" class=\"dataframe\">\n",
              "  <thead>\n",
              "    <tr style=\"text-align: right;\">\n",
              "      <th></th>\n",
              "      <th>Gender</th>\n",
              "      <th>Age</th>\n",
              "      <th>Status</th>\n",
              "      <th>Income</th>\n",
              "      <th>Frequency</th>\n",
              "      <th>Method</th>\n",
              "      <th>timepervisit</th>\n",
              "      <th>nearest</th>\n",
              "      <th>membership</th>\n",
              "      <th>fequencyofpurchase</th>\n",
              "      <th>spending</th>\n",
              "      <th>comparerate</th>\n",
              "      <th>pricerate</th>\n",
              "      <th>promotion</th>\n",
              "      <th>rateambiance</th>\n",
              "      <th>Wifi</th>\n",
              "      <th>rateservice</th>\n",
              "      <th>situational</th>\n",
              "      <th>source</th>\n",
              "      <th>loyalty</th>\n",
              "    </tr>\n",
              "  </thead>\n",
              "  <tbody>\n",
              "    <tr>\n",
              "      <th>0</th>\n",
              "      <td>Female</td>\n",
              "      <td>2</td>\n",
              "      <td>1</td>\n",
              "      <td>1</td>\n",
              "      <td>Rarely</td>\n",
              "      <td>Dine in</td>\n",
              "      <td>Between 30 minutes to 1 hour</td>\n",
              "      <td>within 1km</td>\n",
              "      <td>Yes</td>\n",
              "      <td>Coffee</td>\n",
              "      <td>Less than RM20</td>\n",
              "      <td>4</td>\n",
              "      <td>3</td>\n",
              "      <td>5</td>\n",
              "      <td>5</td>\n",
              "      <td>4</td>\n",
              "      <td>4</td>\n",
              "      <td>3</td>\n",
              "      <td>Starbucks Website/Apps;Social Media;Emails;Dea...</td>\n",
              "      <td>Yes</td>\n",
              "    </tr>\n",
              "    <tr>\n",
              "      <th>1</th>\n",
              "      <td>Female</td>\n",
              "      <td>2</td>\n",
              "      <td>1</td>\n",
              "      <td>1</td>\n",
              "      <td>Rarely</td>\n",
              "      <td>Take away</td>\n",
              "      <td>Below 30 minutes</td>\n",
              "      <td>1km - 3km</td>\n",
              "      <td>Yes</td>\n",
              "      <td>Cold drinks;Pastries</td>\n",
              "      <td>Less than RM20</td>\n",
              "      <td>4</td>\n",
              "      <td>3</td>\n",
              "      <td>4</td>\n",
              "      <td>4</td>\n",
              "      <td>4</td>\n",
              "      <td>5</td>\n",
              "      <td>2</td>\n",
              "      <td>Social Media;In Store displays</td>\n",
              "      <td>Yes</td>\n",
              "    </tr>\n",
              "    <tr>\n",
              "      <th>2</th>\n",
              "      <td>Male</td>\n",
              "      <td>2</td>\n",
              "      <td>2</td>\n",
              "      <td>1</td>\n",
              "      <td>Monthly</td>\n",
              "      <td>Dine in</td>\n",
              "      <td>Between 30 minutes to 1 hour</td>\n",
              "      <td>more than 3km</td>\n",
              "      <td>Yes</td>\n",
              "      <td>Coffee</td>\n",
              "      <td>Less than RM20</td>\n",
              "      <td>4</td>\n",
              "      <td>3</td>\n",
              "      <td>4</td>\n",
              "      <td>4</td>\n",
              "      <td>4</td>\n",
              "      <td>4</td>\n",
              "      <td>3</td>\n",
              "      <td>In Store displays;Billboards</td>\n",
              "      <td>Yes</td>\n",
              "    </tr>\n",
              "    <tr>\n",
              "      <th>3</th>\n",
              "      <td>Female</td>\n",
              "      <td>2</td>\n",
              "      <td>1</td>\n",
              "      <td>1</td>\n",
              "      <td>Rarely</td>\n",
              "      <td>Take away</td>\n",
              "      <td>Below 30 minutes</td>\n",
              "      <td>more than 3km</td>\n",
              "      <td>No</td>\n",
              "      <td>Coffee</td>\n",
              "      <td>Less than RM20</td>\n",
              "      <td>2</td>\n",
              "      <td>1</td>\n",
              "      <td>4</td>\n",
              "      <td>3</td>\n",
              "      <td>3</td>\n",
              "      <td>3</td>\n",
              "      <td>3</td>\n",
              "      <td>Through friends and word of mouth</td>\n",
              "      <td>No</td>\n",
              "    </tr>\n",
              "    <tr>\n",
              "      <th>4</th>\n",
              "      <td>Male</td>\n",
              "      <td>2</td>\n",
              "      <td>1</td>\n",
              "      <td>1</td>\n",
              "      <td>Monthly</td>\n",
              "      <td>Take away</td>\n",
              "      <td>Between 30 minutes to 1 hour</td>\n",
              "      <td>1km - 3km</td>\n",
              "      <td>No</td>\n",
              "      <td>Coffee;Sandwiches</td>\n",
              "      <td>Around RM20 - RM40</td>\n",
              "      <td>3</td>\n",
              "      <td>3</td>\n",
              "      <td>4</td>\n",
              "      <td>2</td>\n",
              "      <td>2</td>\n",
              "      <td>3</td>\n",
              "      <td>3</td>\n",
              "      <td>Starbucks Website/Apps;Social Media</td>\n",
              "      <td>Yes</td>\n",
              "    </tr>\n",
              "  </tbody>\n",
              "</table>\n",
              "</div>\n",
              "    <div class=\"colab-df-buttons\">\n",
              "\n",
              "  <div class=\"colab-df-container\">\n",
              "    <button class=\"colab-df-convert\" onclick=\"convertToInteractive('df-39befa42-bc42-43de-b2a7-9e89c873eb61')\"\n",
              "            title=\"Convert this dataframe to an interactive table.\"\n",
              "            style=\"display:none;\">\n",
              "\n",
              "  <svg xmlns=\"http://www.w3.org/2000/svg\" height=\"24px\" viewBox=\"0 -960 960 960\">\n",
              "    <path d=\"M120-120v-720h720v720H120Zm60-500h600v-160H180v160Zm220 220h160v-160H400v160Zm0 220h160v-160H400v160ZM180-400h160v-160H180v160Zm440 0h160v-160H620v160ZM180-180h160v-160H180v160Zm440 0h160v-160H620v160Z\"/>\n",
              "  </svg>\n",
              "    </button>\n",
              "\n",
              "  <style>\n",
              "    .colab-df-container {\n",
              "      display:flex;\n",
              "      gap: 12px;\n",
              "    }\n",
              "\n",
              "    .colab-df-convert {\n",
              "      background-color: #E8F0FE;\n",
              "      border: none;\n",
              "      border-radius: 50%;\n",
              "      cursor: pointer;\n",
              "      display: none;\n",
              "      fill: #1967D2;\n",
              "      height: 32px;\n",
              "      padding: 0 0 0 0;\n",
              "      width: 32px;\n",
              "    }\n",
              "\n",
              "    .colab-df-convert:hover {\n",
              "      background-color: #E2EBFA;\n",
              "      box-shadow: 0px 1px 2px rgba(60, 64, 67, 0.3), 0px 1px 3px 1px rgba(60, 64, 67, 0.15);\n",
              "      fill: #174EA6;\n",
              "    }\n",
              "\n",
              "    .colab-df-buttons div {\n",
              "      margin-bottom: 4px;\n",
              "    }\n",
              "\n",
              "    [theme=dark] .colab-df-convert {\n",
              "      background-color: #3B4455;\n",
              "      fill: #D2E3FC;\n",
              "    }\n",
              "\n",
              "    [theme=dark] .colab-df-convert:hover {\n",
              "      background-color: #434B5C;\n",
              "      box-shadow: 0px 1px 3px 1px rgba(0, 0, 0, 0.15);\n",
              "      filter: drop-shadow(0px 1px 2px rgba(0, 0, 0, 0.3));\n",
              "      fill: #FFFFFF;\n",
              "    }\n",
              "  </style>\n",
              "\n",
              "    <script>\n",
              "      const buttonEl =\n",
              "        document.querySelector('#df-39befa42-bc42-43de-b2a7-9e89c873eb61 button.colab-df-convert');\n",
              "      buttonEl.style.display =\n",
              "        google.colab.kernel.accessAllowed ? 'block' : 'none';\n",
              "\n",
              "      async function convertToInteractive(key) {\n",
              "        const element = document.querySelector('#df-39befa42-bc42-43de-b2a7-9e89c873eb61');\n",
              "        const dataTable =\n",
              "          await google.colab.kernel.invokeFunction('convertToInteractive',\n",
              "                                                    [key], {});\n",
              "        if (!dataTable) return;\n",
              "\n",
              "        const docLinkHtml = 'Like what you see? Visit the ' +\n",
              "          '<a target=\"_blank\" href=https://colab.research.google.com/notebooks/data_table.ipynb>data table notebook</a>'\n",
              "          + ' to learn more about interactive tables.';\n",
              "        element.innerHTML = '';\n",
              "        dataTable['output_type'] = 'display_data';\n",
              "        await google.colab.output.renderOutput(dataTable, element);\n",
              "        const docLink = document.createElement('div');\n",
              "        docLink.innerHTML = docLinkHtml;\n",
              "        element.appendChild(docLink);\n",
              "      }\n",
              "    </script>\n",
              "  </div>\n",
              "\n",
              "\n",
              "<div id=\"df-22014082-5ddb-4666-8ba1-23df20d87fe7\">\n",
              "  <button class=\"colab-df-quickchart\" onclick=\"quickchart('df-22014082-5ddb-4666-8ba1-23df20d87fe7')\"\n",
              "            title=\"Suggest charts\"\n",
              "            style=\"display:none;\">\n",
              "\n",
              "<svg xmlns=\"http://www.w3.org/2000/svg\" height=\"24px\"viewBox=\"0 0 24 24\"\n",
              "     width=\"24px\">\n",
              "    <g>\n",
              "        <path d=\"M19 3H5c-1.1 0-2 .9-2 2v14c0 1.1.9 2 2 2h14c1.1 0 2-.9 2-2V5c0-1.1-.9-2-2-2zM9 17H7v-7h2v7zm4 0h-2V7h2v10zm4 0h-2v-4h2v4z\"/>\n",
              "    </g>\n",
              "</svg>\n",
              "  </button>\n",
              "\n",
              "<style>\n",
              "  .colab-df-quickchart {\n",
              "      --bg-color: #E8F0FE;\n",
              "      --fill-color: #1967D2;\n",
              "      --hover-bg-color: #E2EBFA;\n",
              "      --hover-fill-color: #174EA6;\n",
              "      --disabled-fill-color: #AAA;\n",
              "      --disabled-bg-color: #DDD;\n",
              "  }\n",
              "\n",
              "  [theme=dark] .colab-df-quickchart {\n",
              "      --bg-color: #3B4455;\n",
              "      --fill-color: #D2E3FC;\n",
              "      --hover-bg-color: #434B5C;\n",
              "      --hover-fill-color: #FFFFFF;\n",
              "      --disabled-bg-color: #3B4455;\n",
              "      --disabled-fill-color: #666;\n",
              "  }\n",
              "\n",
              "  .colab-df-quickchart {\n",
              "    background-color: var(--bg-color);\n",
              "    border: none;\n",
              "    border-radius: 50%;\n",
              "    cursor: pointer;\n",
              "    display: none;\n",
              "    fill: var(--fill-color);\n",
              "    height: 32px;\n",
              "    padding: 0;\n",
              "    width: 32px;\n",
              "  }\n",
              "\n",
              "  .colab-df-quickchart:hover {\n",
              "    background-color: var(--hover-bg-color);\n",
              "    box-shadow: 0 1px 2px rgba(60, 64, 67, 0.3), 0 1px 3px 1px rgba(60, 64, 67, 0.15);\n",
              "    fill: var(--button-hover-fill-color);\n",
              "  }\n",
              "\n",
              "  .colab-df-quickchart-complete:disabled,\n",
              "  .colab-df-quickchart-complete:disabled:hover {\n",
              "    background-color: var(--disabled-bg-color);\n",
              "    fill: var(--disabled-fill-color);\n",
              "    box-shadow: none;\n",
              "  }\n",
              "\n",
              "  .colab-df-spinner {\n",
              "    border: 2px solid var(--fill-color);\n",
              "    border-color: transparent;\n",
              "    border-bottom-color: var(--fill-color);\n",
              "    animation:\n",
              "      spin 1s steps(1) infinite;\n",
              "  }\n",
              "\n",
              "  @keyframes spin {\n",
              "    0% {\n",
              "      border-color: transparent;\n",
              "      border-bottom-color: var(--fill-color);\n",
              "      border-left-color: var(--fill-color);\n",
              "    }\n",
              "    20% {\n",
              "      border-color: transparent;\n",
              "      border-left-color: var(--fill-color);\n",
              "      border-top-color: var(--fill-color);\n",
              "    }\n",
              "    30% {\n",
              "      border-color: transparent;\n",
              "      border-left-color: var(--fill-color);\n",
              "      border-top-color: var(--fill-color);\n",
              "      border-right-color: var(--fill-color);\n",
              "    }\n",
              "    40% {\n",
              "      border-color: transparent;\n",
              "      border-right-color: var(--fill-color);\n",
              "      border-top-color: var(--fill-color);\n",
              "    }\n",
              "    60% {\n",
              "      border-color: transparent;\n",
              "      border-right-color: var(--fill-color);\n",
              "    }\n",
              "    80% {\n",
              "      border-color: transparent;\n",
              "      border-right-color: var(--fill-color);\n",
              "      border-bottom-color: var(--fill-color);\n",
              "    }\n",
              "    90% {\n",
              "      border-color: transparent;\n",
              "      border-bottom-color: var(--fill-color);\n",
              "    }\n",
              "  }\n",
              "</style>\n",
              "\n",
              "  <script>\n",
              "    async function quickchart(key) {\n",
              "      const quickchartButtonEl =\n",
              "        document.querySelector('#' + key + ' button');\n",
              "      quickchartButtonEl.disabled = true;  // To prevent multiple clicks.\n",
              "      quickchartButtonEl.classList.add('colab-df-spinner');\n",
              "      try {\n",
              "        const charts = await google.colab.kernel.invokeFunction(\n",
              "            'suggestCharts', [key], {});\n",
              "      } catch (error) {\n",
              "        console.error('Error during call to suggestCharts:', error);\n",
              "      }\n",
              "      quickchartButtonEl.classList.remove('colab-df-spinner');\n",
              "      quickchartButtonEl.classList.add('colab-df-quickchart-complete');\n",
              "    }\n",
              "    (() => {\n",
              "      let quickchartButtonEl =\n",
              "        document.querySelector('#df-22014082-5ddb-4666-8ba1-23df20d87fe7 button');\n",
              "      quickchartButtonEl.style.display =\n",
              "        google.colab.kernel.accessAllowed ? 'block' : 'none';\n",
              "    })();\n",
              "  </script>\n",
              "</div>\n",
              "\n",
              "    </div>\n",
              "  </div>\n"
            ],
            "application/vnd.google.colaboratory.intrinsic+json": {
              "type": "dataframe",
              "variable_name": "df",
              "summary": "{\n  \"name\": \"df\",\n  \"rows\": 121,\n  \"fields\": [\n    {\n      \"column\": \"Gender\",\n      \"properties\": {\n        \"dtype\": \"category\",\n        \"num_unique_values\": 2,\n        \"samples\": [\n          \"Male\",\n          \"Female\"\n        ],\n        \"semantic_type\": \"\",\n        \"description\": \"\"\n      }\n    },\n    {\n      \"column\": \"Age\",\n      \"properties\": {\n        \"dtype\": \"number\",\n        \"std\": 0,\n        \"min\": 1,\n        \"max\": 4,\n        \"num_unique_values\": 4,\n        \"samples\": [\n          3,\n          1\n        ],\n        \"semantic_type\": \"\",\n        \"description\": \"\"\n      }\n    },\n    {\n      \"column\": \"Status\",\n      \"properties\": {\n        \"dtype\": \"number\",\n        \"std\": 0,\n        \"min\": 1,\n        \"max\": 4,\n        \"num_unique_values\": 4,\n        \"samples\": [\n          2,\n          4\n        ],\n        \"semantic_type\": \"\",\n        \"description\": \"\"\n      }\n    },\n    {\n      \"column\": \"Income\",\n      \"properties\": {\n        \"dtype\": \"number\",\n        \"std\": 1,\n        \"min\": 1,\n        \"max\": 5,\n        \"num_unique_values\": 5,\n        \"samples\": [\n          3,\n          4\n        ],\n        \"semantic_type\": \"\",\n        \"description\": \"\"\n      }\n    },\n    {\n      \"column\": \"Frequency\",\n      \"properties\": {\n        \"dtype\": \"category\",\n        \"num_unique_values\": 5,\n        \"samples\": [\n          \"Monthly\",\n          \"Daily\"\n        ],\n        \"semantic_type\": \"\",\n        \"description\": \"\"\n      }\n    },\n    {\n      \"column\": \"Method\",\n      \"properties\": {\n        \"dtype\": \"category\",\n        \"num_unique_values\": 7,\n        \"samples\": [\n          \"Dine in\",\n          \"Take away\"\n        ],\n        \"semantic_type\": \"\",\n        \"description\": \"\"\n      }\n    },\n    {\n      \"column\": \"timepervisit\",\n      \"properties\": {\n        \"dtype\": \"category\",\n        \"num_unique_values\": 5,\n        \"samples\": [\n          \"Below 30 minutes\",\n          \"Between 2 hours to 3 hours\"\n        ],\n        \"semantic_type\": \"\",\n        \"description\": \"\"\n      }\n    },\n    {\n      \"column\": \"nearest\",\n      \"properties\": {\n        \"dtype\": \"category\",\n        \"num_unique_values\": 3,\n        \"samples\": [\n          \"within 1km\",\n          \"1km - 3km\"\n        ],\n        \"semantic_type\": \"\",\n        \"description\": \"\"\n      }\n    },\n    {\n      \"column\": \"membership\",\n      \"properties\": {\n        \"dtype\": \"category\",\n        \"num_unique_values\": 2,\n        \"samples\": [\n          \"No\",\n          \"Yes\"\n        ],\n        \"semantic_type\": \"\",\n        \"description\": \"\"\n      }\n    },\n    {\n      \"column\": \"fequencyofpurchase\",\n      \"properties\": {\n        \"dtype\": \"category\",\n        \"num_unique_values\": 19,\n        \"samples\": [\n          \"Coffee\",\n          \"Cold drinks;Pastries;Sandwiches\"\n        ],\n        \"semantic_type\": \"\",\n        \"description\": \"\"\n      }\n    },\n    {\n      \"column\": \"spending\",\n      \"properties\": {\n        \"dtype\": \"category\",\n        \"num_unique_values\": 4,\n        \"samples\": [\n          \"Around RM20 - RM40\",\n          \"Zero\"\n        ],\n        \"semantic_type\": \"\",\n        \"description\": \"\"\n      }\n    },\n    {\n      \"column\": \"comparerate\",\n      \"properties\": {\n        \"dtype\": \"number\",\n        \"std\": 0,\n        \"min\": 1,\n        \"max\": 5,\n        \"num_unique_values\": 5,\n        \"samples\": [\n          2,\n          1\n        ],\n        \"semantic_type\": \"\",\n        \"description\": \"\"\n      }\n    },\n    {\n      \"column\": \"pricerate\",\n      \"properties\": {\n        \"dtype\": \"number\",\n        \"std\": 1,\n        \"min\": 1,\n        \"max\": 5,\n        \"num_unique_values\": 5,\n        \"samples\": [\n          1,\n          4\n        ],\n        \"semantic_type\": \"\",\n        \"description\": \"\"\n      }\n    },\n    {\n      \"column\": \"promotion\",\n      \"properties\": {\n        \"dtype\": \"number\",\n        \"std\": 1,\n        \"min\": 1,\n        \"max\": 5,\n        \"num_unique_values\": 5,\n        \"samples\": [\n          4,\n          1\n        ],\n        \"semantic_type\": \"\",\n        \"description\": \"\"\n      }\n    },\n    {\n      \"column\": \"rateambiance\",\n      \"properties\": {\n        \"dtype\": \"number\",\n        \"std\": 0,\n        \"min\": 1,\n        \"max\": 5,\n        \"num_unique_values\": 5,\n        \"samples\": [\n          4,\n          1\n        ],\n        \"semantic_type\": \"\",\n        \"description\": \"\"\n      }\n    },\n    {\n      \"column\": \"Wifi\",\n      \"properties\": {\n        \"dtype\": \"number\",\n        \"std\": 0,\n        \"min\": 1,\n        \"max\": 5,\n        \"num_unique_values\": 5,\n        \"samples\": [\n          3,\n          1\n        ],\n        \"semantic_type\": \"\",\n        \"description\": \"\"\n      }\n    },\n    {\n      \"column\": \"rateservice\",\n      \"properties\": {\n        \"dtype\": \"number\",\n        \"std\": 0,\n        \"min\": 1,\n        \"max\": 5,\n        \"num_unique_values\": 5,\n        \"samples\": [\n          5,\n          1\n        ],\n        \"semantic_type\": \"\",\n        \"description\": \"\"\n      }\n    },\n    {\n      \"column\": \"situational\",\n      \"properties\": {\n        \"dtype\": \"number\",\n        \"std\": 1,\n        \"min\": 1,\n        \"max\": 5,\n        \"num_unique_values\": 5,\n        \"samples\": [\n          2,\n          1\n        ],\n        \"semantic_type\": \"\",\n        \"description\": \"\"\n      }\n    },\n    {\n      \"column\": \"source\",\n      \"properties\": {\n        \"dtype\": \"category\",\n        \"num_unique_values\": 31,\n        \"samples\": [\n          \"Social Media;Deal sites (fave, iprice, etc...)\",\n          \"Application offer\"\n        ],\n        \"semantic_type\": \"\",\n        \"description\": \"\"\n      }\n    },\n    {\n      \"column\": \"loyalty\",\n      \"properties\": {\n        \"dtype\": \"category\",\n        \"num_unique_values\": 2,\n        \"samples\": [\n          \"No\",\n          \"Yes\"\n        ],\n        \"semantic_type\": \"\",\n        \"description\": \"\"\n      }\n    }\n  ]\n}"
            }
          },
          "metadata": {},
          "execution_count": 20
        }
      ],
      "source": [
        "df.head()"
      ]
    },
    {
      "cell_type": "code",
      "execution_count": 21,
      "metadata": {
        "colab": {
          "base_uri": "https://localhost:8080/",
          "height": 241
        },
        "id": "lKY6iRR1h47E",
        "outputId": "74ba31b8-5cea-44dc-fa7b-a13e4b8aaae1"
      },
      "outputs": [
        {
          "output_type": "execute_result",
          "data": {
            "text/plain": [
              "spending\n",
              "Less than RM20        58\n",
              "Around RM20 - RM40    45\n",
              "Zero                  11\n",
              "More than RM40         7\n",
              "Name: count, dtype: int64"
            ],
            "text/html": [
              "<div>\n",
              "<style scoped>\n",
              "    .dataframe tbody tr th:only-of-type {\n",
              "        vertical-align: middle;\n",
              "    }\n",
              "\n",
              "    .dataframe tbody tr th {\n",
              "        vertical-align: top;\n",
              "    }\n",
              "\n",
              "    .dataframe thead th {\n",
              "        text-align: right;\n",
              "    }\n",
              "</style>\n",
              "<table border=\"1\" class=\"dataframe\">\n",
              "  <thead>\n",
              "    <tr style=\"text-align: right;\">\n",
              "      <th></th>\n",
              "      <th>count</th>\n",
              "    </tr>\n",
              "    <tr>\n",
              "      <th>spending</th>\n",
              "      <th></th>\n",
              "    </tr>\n",
              "  </thead>\n",
              "  <tbody>\n",
              "    <tr>\n",
              "      <th>Less than RM20</th>\n",
              "      <td>58</td>\n",
              "    </tr>\n",
              "    <tr>\n",
              "      <th>Around RM20 - RM40</th>\n",
              "      <td>45</td>\n",
              "    </tr>\n",
              "    <tr>\n",
              "      <th>Zero</th>\n",
              "      <td>11</td>\n",
              "    </tr>\n",
              "    <tr>\n",
              "      <th>More than RM40</th>\n",
              "      <td>7</td>\n",
              "    </tr>\n",
              "  </tbody>\n",
              "</table>\n",
              "</div><br><label><b>dtype:</b> int64</label>"
            ]
          },
          "metadata": {},
          "execution_count": 21
        }
      ],
      "source": [
        "df.spending.value_counts()"
      ]
    },
    {
      "cell_type": "code",
      "execution_count": 22,
      "metadata": {
        "colab": {
          "base_uri": "https://localhost:8080/"
        },
        "id": "PaLOs6uXiQca",
        "outputId": "87a47220-3476-490b-bd45-706e84a79ea9"
      },
      "outputs": [
        {
          "output_type": "stream",
          "name": "stderr",
          "text": [
            "<ipython-input-22-49492c267463>:1: FutureWarning: A value is trying to be set on a copy of a DataFrame or Series through chained assignment using an inplace method.\n",
            "The behavior will change in pandas 3.0. This inplace method will never work because the intermediate object on which we are setting values always behaves as a copy.\n",
            "\n",
            "For example, when doing 'df[col].method(value, inplace=True)', try using 'df.method({col: value}, inplace=True)' or df[col] = df[col].method(value) instead, to perform the operation inplace on the original object.\n",
            "\n",
            "\n",
            "  df.spending.replace(('Less than RM20', 'Around RM20 - RM40', 'Zero', 'More than RM40' ),(2, 3, 1, 4), inplace=True)\n",
            "<ipython-input-22-49492c267463>:1: FutureWarning: Downcasting behavior in `replace` is deprecated and will be removed in a future version. To retain the old behavior, explicitly call `result.infer_objects(copy=False)`. To opt-in to the future behavior, set `pd.set_option('future.no_silent_downcasting', True)`\n",
            "  df.spending.replace(('Less than RM20', 'Around RM20 - RM40', 'Zero', 'More than RM40' ),(2, 3, 1, 4), inplace=True)\n"
          ]
        }
      ],
      "source": [
        "df.spending.replace(('Less than RM20', 'Around RM20 - RM40', 'Zero', 'More than RM40' ),(2, 3, 1, 4), inplace=True)"
      ]
    },
    {
      "cell_type": "code",
      "execution_count": 23,
      "metadata": {
        "id": "aJy3DTxlsP9S"
      },
      "outputs": [],
      "source": [
        "features = ['comparerate', 'pricerate', 'promotion', 'rateambiance', 'Wifi', 'rateservice']\n",
        "scaler = StandardScaler()\n",
        "X_scaled = scaler.fit_transform(df[features])"
      ]
    },
    {
      "cell_type": "code",
      "execution_count": 24,
      "metadata": {
        "id": "rnBcNFjlsWgD"
      },
      "outputs": [],
      "source": [
        "# PCA for dimensionality reduction\n",
        "pca = PCA(n_components=2)\n",
        "principalComponents = pca.fit_transform(X_scaled)"
      ]
    },
    {
      "cell_type": "code",
      "execution_count": 25,
      "metadata": {
        "colab": {
          "base_uri": "https://localhost:8080/",
          "height": 410
        },
        "id": "lYqOtN2Jt5PJ",
        "outputId": "a8d3c1cb-9fab-41ac-9634-81cfae6b875c"
      },
      "outputs": [
        {
          "output_type": "display_data",
          "data": {
            "text/plain": [
              "<Figure size 800x400 with 1 Axes>"
            ],
            "image/png": "[encoded data removed]"
          },
          "metadata": {}
        }
      ],
      "source": [
        "# Determine optimal clusters using Elbow Method\n",
        "cluster_range = range(1, 10)\n",
        "cluster_errors = []\n",
        "for num_clusters in cluster_range:\n",
        "    clusters = KMeans(n_clusters=num_clusters, random_state=42)\n",
        "    clusters.fit(principalComponents)\n",
        "    cluster_errors.append(clusters.inertia_)\n",
        "\n",
        "plt.figure(figsize=(8, 4))\n",
        "sns.lineplot(x=cluster_range, y=cluster_errors, marker=\"o\")\n",
        "plt.xlabel(\"Number of Clusters\")\n",
        "plt.ylabel(\"Inertia (Error)\")\n",
        "plt.title(\"Elbow Method for Optimal Clusters\")\n",
        "plt.show()"
      ]
    },
    {
      "cell_type": "code",
      "execution_count": 26,
      "metadata": {
        "id": "N6Q64ErcuWQJ"
      },
      "outputs": [],
      "source": [
        "# Apply KMeans clustering with optimal k=3\n",
        "kmeans = KMeans(n_clusters=3, random_state=42)\n",
        "df['Cluster'] = kmeans.fit_predict(X_scaled)"
      ]
    },
    {
      "cell_type": "code",
      "execution_count": 27,
      "metadata": {
        "colab": {
          "base_uri": "https://localhost:8080/"
        },
        "id": "pLfvTi71uYFc",
        "outputId": "8e19fb2e-b0e8-4de8-8861-fc3af96cd745"
      },
      "outputs": [
        {
          "output_type": "stream",
          "name": "stdout",
          "text": [
            "              Age    Status    Income  spending  comparerate  pricerate  \\\n",
            "Cluster                                                                   \n",
            "0        2.333333  1.979167  1.895833  2.354167     3.854167   2.562500   \n",
            "1        1.942857  1.571429  1.742857  2.285714     2.857143   2.400000   \n",
            "2        2.105263  1.868421  1.526316  2.552632     4.236842   3.815789   \n",
            "\n",
            "         promotion  rateambiance      Wifi  rateservice  situational  Cluster  \n",
            "Cluster                                                                        \n",
            "0         3.812500      3.833333  3.187500     3.750000     3.604167      0.0  \n",
            "1         3.057143      2.771429  2.514286     2.971429     2.914286      1.0  \n",
            "2         4.526316      4.578947  4.026316     4.473684     3.973684      2.0  \n"
          ]
        }
      ],
      "source": [
        "# Analyze customer profiles in each cluster\n",
        "cluster_profiles = df.groupby('Cluster').agg({col: 'mean' for col in df.select_dtypes(include=np.number).columns})\n",
        "print(cluster_profiles)"
      ]
    },
    {
      "cell_type": "code",
      "execution_count": 28,
      "metadata": {
        "id": "M6PjgrOqenFY",
        "colab": {
          "base_uri": "https://localhost:8080/"
        },
        "outputId": "14f04e18-9c53-42f7-fe97-f0caa5c2fcbe"
      },
      "outputs": [
        {
          "output_type": "stream",
          "name": "stderr",
          "text": [
            "<ipython-input-28-ac3ddb150430>:1: FutureWarning: A value is trying to be set on a copy of a DataFrame or Series through chained assignment using an inplace method.\n",
            "The behavior will change in pandas 3.0. This inplace method will never work because the intermediate object on which we are setting values always behaves as a copy.\n",
            "\n",
            "For example, when doing 'df[col].method(value, inplace=True)', try using 'df.method({col: value}, inplace=True)' or df[col] = df[col].method(value) instead, to perform the operation inplace on the original object.\n",
            "\n",
            "\n",
            "  df.loyalty.replace(('yes', 'no'), (1,0), inplace=True)\n"
          ]
        }
      ],
      "source": [
        "df.loyalty.replace(('yes', 'no'), (1,0), inplace=True)"
      ]
    },
    {
      "cell_type": "code",
      "execution_count": 29,
      "metadata": {
        "colab": {
          "base_uri": "https://localhost:8080/"
        },
        "id": "kUAxwFgTvSmj",
        "outputId": "5a8a03fa-d77b-4b0a-fce7-d1fe1a24089c"
      },
      "outputs": [
        {
          "output_type": "stream",
          "name": "stdout",
          "text": [
            "  loyalty  Cluster\n",
            "0     Yes        2\n",
            "1     Yes        2\n",
            "2     Yes        0\n",
            "3      No        1\n",
            "4     Yes        1\n"
          ]
        }
      ],
      "source": [
        "print(df[['loyalty', 'Cluster']].head())"
      ]
    },
    {
      "cell_type": "code",
      "execution_count": 30,
      "metadata": {
        "colab": {
          "base_uri": "https://localhost:8080/"
        },
        "id": "96rj8BiPvdq4",
        "outputId": "fd7900d7-4f1b-4d6a-911d-dea18348064e"
      },
      "outputs": [
        {
          "output_type": "stream",
          "name": "stdout",
          "text": [
            "['Yes' 'No']\n",
            "object\n"
          ]
        }
      ],
      "source": [
        "print(df['loyalty'].unique())\n",
        "print(df['loyalty'].dtype)"
      ]
    },
    {
      "cell_type": "markdown",
      "metadata": {
        "id": "3BfZW1Ikv06Y"
      },
      "source": [
        "The code above shows that the replace operation might not have fully converted the 'loyalty' column to numeric even though it replaced 'yes' and 'no' with 1 and 0."
      ]
    },
    {
      "cell_type": "code",
      "execution_count": 31,
      "metadata": {
        "id": "NnmLvdArwD1B"
      },
      "outputs": [],
      "source": [
        "df['loyalty'] = pd.to_numeric(df['loyalty'], errors='coerce')"
      ]
    },
    {
      "cell_type": "markdown",
      "metadata": {
        "id": "YVbTqUVhwImA"
      },
      "source": [
        "The code provided before the loyalty_distribution works with replacing the 'loyalty' column to numeric. Thus, identifying loyalty percentage per cluster works already."
      ]
    },
    {
      "cell_type": "code",
      "execution_count": 32,
      "metadata": {
        "colab": {
          "base_uri": "https://localhost:8080/"
        },
        "id": "U80By5RFuk25",
        "outputId": "d9983dd8-d302-4bd7-f926-94aa066be56c"
      },
      "outputs": [
        {
          "output_type": "stream",
          "name": "stdout",
          "text": [
            "Loyalty Distribution Per Cluster:\n",
            "Cluster\n",
            "0   NaN\n",
            "1   NaN\n",
            "2   NaN\n",
            "Name: loyalty, dtype: float64\n"
          ]
        }
      ],
      "source": [
        "# Identify loyalty percentage per cluster\n",
        "loyalty_distribution = df.groupby('Cluster')['loyalty'].mean()\n",
        "print(\"Loyalty Distribution Per Cluster:\")\n",
        "print(loyalty_distribution)"
      ]
    },
    {
      "cell_type": "code",
      "execution_count": 33,
      "metadata": {
        "colab": {
          "base_uri": "https://localhost:8080/"
        },
        "id": "Xv-3YY-Hwfpa",
        "outputId": "af7152f7-5d1c-4b75-8484-571f071b1273"
      },
      "outputs": [
        {
          "output_type": "stream",
          "name": "stdout",
          "text": [
            "Spending Distribution Per Cluster:\n",
            "Cluster\n",
            "0    2.354167\n",
            "1    2.285714\n",
            "2    2.552632\n",
            "Name: spending, dtype: float64\n"
          ]
        }
      ],
      "source": [
        "# Identify spending patterns per cluster\n",
        "spending_distribution = df.groupby('Cluster')['spending'].mean()\n",
        "print(\"Spending Distribution Per Cluster:\")\n",
        "print(spending_distribution)"
      ]
    },
    {
      "cell_type": "code",
      "execution_count": 34,
      "metadata": {
        "colab": {
          "base_uri": "https://localhost:8080/"
        },
        "id": "LqW4gYgYwimS",
        "outputId": "6fd3f2f4-3b6a-431c-bd87-2b6e9b840a06"
      },
      "outputs": [
        {
          "output_type": "stream",
          "name": "stdout",
          "text": [
            "Correlation with Spending:\n",
            "spending        1.000000\n",
            "Age             0.347965\n",
            "situational     0.285004\n",
            "comparerate     0.273796\n",
            "Income          0.258301\n",
            "pricerate       0.257326\n",
            "Status          0.207797\n",
            "Cluster         0.107108\n",
            "rateservice     0.094231\n",
            "rateambiance    0.066950\n",
            "promotion       0.018377\n",
            "Wifi           -0.050597\n",
            "loyalty              NaN\n",
            "Name: spending, dtype: float64\n"
          ]
        }
      ],
      "source": [
        "# Correlation analysis to determine factors influencing spending\n",
        "correlation_matrix = df.select_dtypes(include=np.number).corr()\n",
        "print(\"Correlation with Spending:\")\n",
        "print(correlation_matrix['spending'].sort_values(ascending=False))"
      ]
    },
    {
      "cell_type": "code",
      "execution_count": 35,
      "metadata": {
        "colab": {
          "base_uri": "https://localhost:8080/",
          "height": 564
        },
        "id": "ZIPDyRIGwvhU",
        "outputId": "7b135c32-275d-4b52-9e45-97fd8badd62b"
      },
      "outputs": [
        {
          "output_type": "display_data",
          "data": {
            "text/plain": [
              "<Figure size 800x600 with 1 Axes>"
            ],
            "image/png": "[encoded data removed]"
          },
          "metadata": {}
        }
      ],
      "source": [
        "# Visualize clusters\n",
        "plt.figure(figsize=(8, 6))\n",
        "sns.scatterplot(x=principalComponents[:, 0], y=principalComponents[:, 1], hue=df['Cluster'], palette='viridis')\n",
        "plt.xlabel(\"Principal Component 1\")\n",
        "plt.ylabel(\"Principal Component 2\")\n",
        "plt.title(\"Customer Segments Based on Clustering\")\n",
        "plt.legend(title=\"Cluster\")\n",
        "plt.show()"
      ]
    },
    {
      "cell_type": "code",
      "execution_count": 36,
      "metadata": {
        "colab": {
          "base_uri": "https://localhost:8080/",
          "height": 627
        },
        "id": "RD07pU09yCPU",
        "outputId": "29ea2c5b-3a5c-4e8c-d54d-2c120caddc6a"
      },
      "outputs": [
        {
          "output_type": "display_data",
          "data": {
            "text/plain": [
              "<Figure size 1000x600 with 2 Axes>"
            ],
            "image/png": "[encoded data removed]"
          },
          "metadata": {}
        }
      ],
      "source": [
        "plt.figure(figsize=(10, 6))\n",
        "sns.heatmap(correlation_matrix, annot=True, cmap=\"coolwarm\", fmt=\".2f\")\n",
        "plt.title(\"Feature Correlation Matrix\")\n",
        "plt.show()"
      ]
    }
  ],
  "metadata": {
    "colab": {
      "provenance": [],
      "include_colab_link": true
    },
    "kernelspec": {
      "display_name": "Python 3",
      "name": "python3"
    },
    "language_info": {
      "name": "python"
    }
  },
  "nbformat": 4,
  "nbformat_minor": 0
}